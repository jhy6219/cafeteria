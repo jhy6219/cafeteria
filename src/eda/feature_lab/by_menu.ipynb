{
 "cells": [
  {
   "cell_type": "code",
   "execution_count": null,
   "metadata": {},
   "outputs": [],
   "source": [
    "!pip install git+https://github.com/haven-jeon/PyKoSpacing.git\n",
    "!python3 -m pip install tensorflow"
   ]
  },
  {
   "cell_type": "code",
   "execution_count": 11,
   "metadata": {},
   "outputs": [],
   "source": [
    "# 코드 작성일 : 24.7.4 -> 대표메뉴\n",
    "import os\n",
    "from pykospacing import Spacing\n",
    "from concurrent.futures import ThreadPoolExecutor\n",
    "\n",
    "if 'original_dir' not in globals() :\n",
    "    original_dir = os.getcwd()\n",
    "os.chdir(os.path.dirname(os.path.dirname(os.path.dirname(original_dir))))\n",
    "exec(open('setup/default.py').read())"
   ]
  },
  {
   "cell_type": "code",
   "execution_count": 12,
   "metadata": {},
   "outputs": [],
   "source": [
    "menu_w_sold_out = pd.read_csv(os.getcwd()+'/data/preproc/main/menu_w_soldout.csv')"
   ]
  },
  {
   "cell_type": "code",
   "execution_count": 36,
   "metadata": {},
   "outputs": [],
   "source": [
    "# 클렌징 \n",
    "def filter_text(text):\n",
    "    # '>'가 있는 경우 '>' 뒤의 텍스트 추출\n",
    "    if '>' in text:\n",
    "        text = text.replace('>,', '>') # 만약 <~>,이런식으로 붙어있으면 변경해주기\n",
    "        text = text.split('>')[-1]\n",
    "    # ','가 있는 경우 ',' 앞의 텍스트 추출\n",
    "    if ',' in text:\n",
    "        text = text.split(',')[0]\n",
    "    # 특수문자 이후의 텍스트 제거\n",
    "    text = re.sub(r'[(*&].*$', '', text).strip()\n",
    "    return text\n",
    "\n",
    "# 데이터프레임에 함수 적용\n",
    "menu_w_sold_out['first_menu'] = menu_w_sold_out['course'].apply(filter_text)\n",
    "\n"
   ]
  },
  {
   "cell_type": "code",
   "execution_count": 14,
   "metadata": {},
   "outputs": [],
   "source": [
    "first_menu_list = menu_w_sold_out.groupby(['first_menu'],dropna=False).size().to_frame('size').reset_index().sort_values(by='size',ascending=False)"
   ]
  },
  {
   "cell_type": "code",
   "execution_count": 17,
   "metadata": {},
   "outputs": [],
   "source": [
    "# 띄어쓰기\n",
    "spacing = Spacing()\n",
    "sentences = first_menu_list.first_menu\n",
    "\n",
    "def process_spacing(sentence):\n",
    "    return spacing(sentence)\n",
    "\n",
    "# ThreadPoolExecutor를 사용하여 동시에 5개의 작업을 수행합니다.\n",
    "with ThreadPoolExecutor(max_workers=5) as executor:\n",
    "    spaced_sentences = list(executor.map(process_spacing, sentences))\n",
    "\n",
    "spaced_menu = pd.DataFrame({\n",
    "    'first_menu': sentences,\n",
    "    'first_menu_sp': spaced_sentences\n",
    "})"
   ]
  },
  {
   "cell_type": "code",
   "execution_count": 32,
   "metadata": {},
   "outputs": [],
   "source": [
    "#spaced_menu.to_csv('/Users/user/Desktop/haeyoon_private/cafeteria/data/feature_lab/menu_map/spaced_menu.csv',index=False)\n",
    "spaced_menu=pd.read_csv('/Users/user/Desktop/haeyoon_private/cafeteria/data/feature_lab/menu_map/spaced_menu.csv')"
   ]
  },
  {
   "cell_type": "code",
   "execution_count": 37,
   "metadata": {},
   "outputs": [],
   "source": [
    "menu_w_sold_out=pd.merge(menu_w_sold_out,spaced_menu, how='left',on='first_menu') "
   ]
  },
  {
   "cell_type": "code",
   "execution_count": 38,
   "metadata": {},
   "outputs": [],
   "source": [
    "first_menu_list = menu_w_sold_out.first_menu_sp.value_counts().to_frame().reset_index()"
   ]
  },
  {
   "cell_type": "code",
   "execution_count": 59,
   "metadata": {},
   "outputs": [
    {
     "data": {
      "text/html": [
       "<div>\n",
       "<style scoped>\n",
       "    .dataframe tbody tr th:only-of-type {\n",
       "        vertical-align: middle;\n",
       "    }\n",
       "\n",
       "    .dataframe tbody tr th {\n",
       "        vertical-align: top;\n",
       "    }\n",
       "\n",
       "    .dataframe thead th {\n",
       "        text-align: right;\n",
       "    }\n",
       "</style>\n",
       "<table border=\"1\" class=\"dataframe\">\n",
       "  <thead>\n",
       "    <tr style=\"text-align: right;\">\n",
       "      <th></th>\n",
       "      <th>first_menu_sp</th>\n",
       "      <th>count</th>\n",
       "      <th>similarity</th>\n",
       "    </tr>\n",
       "  </thead>\n",
       "  <tbody>\n",
       "    <tr>\n",
       "      <th>75</th>\n",
       "      <td>왕만두 떡국</td>\n",
       "      <td>6</td>\n",
       "      <td>100</td>\n",
       "    </tr>\n",
       "    <tr>\n",
       "      <th>249</th>\n",
       "      <td>사골 왕만두 떡국</td>\n",
       "      <td>2</td>\n",
       "      <td>80</td>\n",
       "    </tr>\n",
       "    <tr>\n",
       "      <th>67</th>\n",
       "      <td>떡 만두 국</td>\n",
       "      <td>6</td>\n",
       "      <td>67</td>\n",
       "    </tr>\n",
       "    <tr>\n",
       "      <th>358</th>\n",
       "      <td>사골 떡국</td>\n",
       "      <td>1</td>\n",
       "      <td>55</td>\n",
       "    </tr>\n",
       "    <tr>\n",
       "      <th>482</th>\n",
       "      <td>왕갈비 쌀국수</td>\n",
       "      <td>1</td>\n",
       "      <td>46</td>\n",
       "    </tr>\n",
       "    <tr>\n",
       "      <th>214</th>\n",
       "      <td>사골 떡만두국</td>\n",
       "      <td>2</td>\n",
       "      <td>46</td>\n",
       "    </tr>\n",
       "    <tr>\n",
       "      <th>513</th>\n",
       "      <td>교자 만두 칼국수</td>\n",
       "      <td>1</td>\n",
       "      <td>40</td>\n",
       "    </tr>\n",
       "    <tr>\n",
       "      <th>40</th>\n",
       "      <td>순대 국밥</td>\n",
       "      <td>8</td>\n",
       "      <td>36</td>\n",
       "    </tr>\n",
       "    <tr>\n",
       "      <th>25</th>\n",
       "      <td>장터 국밥</td>\n",
       "      <td>11</td>\n",
       "      <td>36</td>\n",
       "    </tr>\n",
       "    <tr>\n",
       "      <th>119</th>\n",
       "      <td>만두 전골</td>\n",
       "      <td>4</td>\n",
       "      <td>36</td>\n",
       "    </tr>\n",
       "  </tbody>\n",
       "</table>\n",
       "</div>"
      ],
      "text/plain": [
       "    first_menu_sp  count  similarity\n",
       "75         왕만두 떡국      6         100\n",
       "249     사골 왕만두 떡국      2          80\n",
       "67         떡 만두 국      6          67\n",
       "358         사골 떡국      1          55\n",
       "482       왕갈비 쌀국수      1          46\n",
       "214       사골 떡만두국      2          46\n",
       "513     교자 만두 칼국수      1          40\n",
       "40          순대 국밥      8          36\n",
       "25          장터 국밥     11          36\n",
       "119         만두 전골      4          36"
      ]
     },
     "execution_count": 59,
     "metadata": {},
     "output_type": "execute_result"
    }
   ],
   "source": [
    "# 비교할 텍스트\n",
    "target_text = '왕만두 떡국'\n",
    "\n",
    "# 유사도 계산하여 가장 유사한 메뉴 찾기\n",
    "first_menu_list['similarity'] = first_menu_list['first_menu_sp'].apply(lambda x: fuzz.token_sort_ratio(x, target_text))\n",
    "first_menu_list.sort_values(by='similarity',ascending=False).iloc[:10,:]"
   ]
  }
 ],
 "metadata": {
  "kernelspec": {
   "display_name": "base",
   "language": "python",
   "name": "python3"
  },
  "language_info": {
   "codemirror_mode": {
    "name": "ipython",
    "version": 3
   },
   "file_extension": ".py",
   "mimetype": "text/x-python",
   "name": "python",
   "nbconvert_exporter": "python",
   "pygments_lexer": "ipython3",
   "version": "3.11.7"
  }
 },
 "nbformat": 4,
 "nbformat_minor": 2
}
