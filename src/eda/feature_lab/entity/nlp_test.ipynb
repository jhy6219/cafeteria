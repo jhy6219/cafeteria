{
 "cells": [
  {
   "cell_type": "code",
   "execution_count": 8,
   "metadata": {},
   "outputs": [],
   "source": [
    "# 코드 작성일 : 24.7.26\n",
    "import os\n",
    "\n",
    "if 'original_dir' not in globals() :\n",
    "    original_dir = os.getcwd()\n",
    "    original_dir = os.path.dirname(os.path.dirname(os.path.dirname(os.path.dirname(original_dir))))\n",
    "    os.chdir(original_dir)\n",
    "exec(open('setup/default.py').read())"
   ]
  },
  {
   "cell_type": "code",
   "execution_count": 9,
   "metadata": {},
   "outputs": [],
   "source": [
    "menu_w_sold_out = pd.read_csv(os.getcwd()+'/data/preproc/main/menu_w_soldout.csv')"
   ]
  },
  {
   "cell_type": "code",
   "execution_count": 10,
   "metadata": {},
   "outputs": [],
   "source": [
    "# 클렌징 \n",
    "def filter_text(text):\n",
    "    # '>'가 있는 경우 '>' 뒤의 텍스트 추출\n",
    "    if '>' in text:\n",
    "        text = text.replace('>,', '>') # 만약 <~>,이런식으로 붙어있으면 변경해주기\n",
    "        text = text.split('>')[-1]\n",
    "    # ','가 있는 경우 ',' 앞의 텍스트 추출\n",
    "    if ',' in text:\n",
    "        text = text.split(',')[0]\n",
    "    # 특수문자 이후의 텍스트 제거\n",
    "    text = re.sub(r'[(*&].*$', '', text).strip()\n",
    "    return text\n",
    "\n",
    "menu_list = pd.read_csv(original_dir+'/data/feature_lab/menu_map/entity/spaced_menu.csv')\n",
    "\n",
    "# Replacement rules\n",
    "replacements = {\n",
    "    \"돈가스\": \"돈까스\",\n",
    "    \"치킨가스\": \"치킨까스\",\n",
    "    \"자장\": \"짜장\",\n",
    "    \"코든블루\": \"코돈브루\",\n",
    "    \"코든브루\": \"코돈브루\",\n",
    "    \"코돈블루\": \"코돈브루\",\n",
    "    \"플래이트\": \"\",\n",
    "    \"플레이트\": \"\",\n",
    "    \"플래터\": \"\",\n",
    "    \"플레터\": \"\",\n",
    "    \"정식\": \"\",\n",
    "    \"소시지\": \"소세지\",\n",
    "    \"돈유\": \"돈육\",\n",
    "    \"함바그\" : \"함박\",\n",
    "    \"커틀렛\" : \"커틀릿\",\n",
    "    \"오무\" : \"오므\",\n",
    "    \"뽀모로\" : \"뽀모도로\"\n",
    "}\n",
    "\n",
    "def replace_text(text, replacements):\n",
    "    for key, value in replacements.items():\n",
    "        text = text.replace(key, value)\n",
    "    # Remove digits\n",
    "    text = ''.join([i for i in text if not i.isdigit()])\n",
    "    return text\n",
    "\n",
    "\n",
    "# 데이터프레임에 함수 적용\n",
    "menu_w_sold_out['course'] = menu_w_sold_out['course'].apply(lambda x: replace_text(x, replacements))\n",
    "menu_w_sold_out['first_menu'] = menu_w_sold_out['course'].apply(filter_text)"
   ]
  },
  {
   "cell_type": "code",
   "execution_count": 11,
   "metadata": {},
   "outputs": [],
   "source": [
    "first_menu_list = menu_w_sold_out.groupby(['first_menu'],dropna=False).size().to_frame('size').reset_index().sort_values(by='size',ascending=False)"
   ]
  },
  {
   "cell_type": "code",
   "execution_count": 12,
   "metadata": {},
   "outputs": [
    {
     "data": {
      "text/html": [
       "<div>\n",
       "<style scoped>\n",
       "    .dataframe tbody tr th:only-of-type {\n",
       "        vertical-align: middle;\n",
       "    }\n",
       "\n",
       "    .dataframe tbody tr th {\n",
       "        vertical-align: top;\n",
       "    }\n",
       "\n",
       "    .dataframe thead th {\n",
       "        text-align: right;\n",
       "    }\n",
       "</style>\n",
       "<table border=\"1\" class=\"dataframe\">\n",
       "  <thead>\n",
       "    <tr style=\"text-align: right;\">\n",
       "      <th></th>\n",
       "      <th>first_menu</th>\n",
       "      <th>size</th>\n",
       "    </tr>\n",
       "  </thead>\n",
       "  <tbody>\n",
       "    <tr>\n",
       "      <th>317</th>\n",
       "      <td>뼈없는감자탕</td>\n",
       "      <td>21</td>\n",
       "    </tr>\n",
       "    <tr>\n",
       "      <th>94</th>\n",
       "      <td>닭곰탕</td>\n",
       "      <td>18</td>\n",
       "    </tr>\n",
       "    <tr>\n",
       "      <th>606</th>\n",
       "      <td>콩비지찌개</td>\n",
       "      <td>17</td>\n",
       "    </tr>\n",
       "    <tr>\n",
       "      <th>199</th>\n",
       "      <td>마파두부덮밥</td>\n",
       "      <td>16</td>\n",
       "    </tr>\n",
       "    <tr>\n",
       "      <th>145</th>\n",
       "      <td>돼지국밥</td>\n",
       "      <td>16</td>\n",
       "    </tr>\n",
       "    <tr>\n",
       "      <th>...</th>\n",
       "      <td>...</td>\n",
       "      <td>...</td>\n",
       "    </tr>\n",
       "    <tr>\n",
       "      <th>253</th>\n",
       "      <td>미트소스스파게티</td>\n",
       "      <td>1</td>\n",
       "    </tr>\n",
       "    <tr>\n",
       "      <th>251</th>\n",
       "      <td>미트볼로제스파게티</td>\n",
       "      <td>1</td>\n",
       "    </tr>\n",
       "    <tr>\n",
       "      <th>250</th>\n",
       "      <td>미니우동</td>\n",
       "      <td>1</td>\n",
       "    </tr>\n",
       "    <tr>\n",
       "      <th>249</th>\n",
       "      <td>미나리불고기</td>\n",
       "      <td>1</td>\n",
       "    </tr>\n",
       "    <tr>\n",
       "      <th>326</th>\n",
       "      <td>사천식마파두부덮밥</td>\n",
       "      <td>1</td>\n",
       "    </tr>\n",
       "  </tbody>\n",
       "</table>\n",
       "<p>653 rows × 2 columns</p>\n",
       "</div>"
      ],
      "text/plain": [
       "    first_menu  size\n",
       "317     뼈없는감자탕    21\n",
       "94         닭곰탕    18\n",
       "606      콩비지찌개    17\n",
       "199     마파두부덮밥    16\n",
       "145       돼지국밥    16\n",
       "..         ...   ...\n",
       "253   미트소스스파게티     1\n",
       "251  미트볼로제스파게티     1\n",
       "250       미니우동     1\n",
       "249     미나리불고기     1\n",
       "326  사천식마파두부덮밥     1\n",
       "\n",
       "[653 rows x 2 columns]"
      ]
     },
     "execution_count": 12,
     "metadata": {},
     "output_type": "execute_result"
    }
   ],
   "source": [
    "first_menu_list"
   ]
  },
  {
   "cell_type": "code",
   "execution_count": 13,
   "metadata": {},
   "outputs": [
    {
     "name": "stdout",
     "output_type": "stream",
     "text": [
      "Requirement already satisfied: konlpy in /Users/al01989093/anaconda3/envs/first_pytorch/lib/python3.11/site-packages (0.6.0)\n",
      "Requirement already satisfied: JPype1>=0.7.0 in /Users/al01989093/anaconda3/envs/first_pytorch/lib/python3.11/site-packages (from konlpy) (1.5.0)\n",
      "Requirement already satisfied: lxml>=4.1.0 in /Users/al01989093/anaconda3/envs/first_pytorch/lib/python3.11/site-packages (from konlpy) (5.2.2)\n",
      "Requirement already satisfied: numpy>=1.6 in /Users/al01989093/anaconda3/envs/first_pytorch/lib/python3.11/site-packages (from konlpy) (2.0.0)\n",
      "Requirement already satisfied: packaging in /Users/al01989093/anaconda3/envs/first_pytorch/lib/python3.11/site-packages (from JPype1>=0.7.0->konlpy) (24.1)\n"
     ]
    }
   ],
   "source": [
    "#!pip3 install konlpy"
   ]
  },
  {
   "cell_type": "code",
   "execution_count": 32,
   "metadata": {},
   "outputs": [],
   "source": [
    "high_cat = pd.read_csv(original_dir+'/data/feature_lab/menu_map/entity/group/high_cat.csv').drop_duplicates()['high_cat'].tolist()\n",
    "med_cat = pd.read_csv(original_dir+'/data/feature_lab/menu_map/entity/group/med_cat.csv').drop_duplicates()['med_cat'].tolist()\n",
    "ingredient = pd.read_csv(original_dir+'/data/feature_lab/menu_map/entity/group/ingredient.csv').drop_duplicates()['ingredient'].tolist()"
   ]
  },
  {
   "cell_type": "code",
   "execution_count": 34,
   "metadata": {},
   "outputs": [],
   "source": [
    "custom_nouns = high_cat+med_cat+ingredient\n",
    "with open(original_dir+'/data/feature_lab/menu_map/entity/group/user_dic.txt', 'w', encoding='utf-8') as f:\n",
    "    for noun in custom_nouns:\n",
    "        f.write(f\"{noun}\\tNNG\\n\")\n"
   ]
  },
  {
   "cell_type": "code",
   "execution_count": 36,
   "metadata": {},
   "outputs": [
    {
     "name": "stdout",
     "output_type": "stream",
     "text": [
      "['오늘', '점심', '으로', '나시고랭', '과', '국수', '를', '먹', '었', '다', '.']\n"
     ]
    }
   ],
   "source": [
    "from konlpy.tag import Komoran\n",
    "\n",
    "# 명사 리스트\n",
    "custom_nouns = ['구이', '국', '국수', '개장', '까스', '나시고랭', '나베']\n",
    "\n",
    "# 사용자 정의 사전 파일 작성\n",
    "with open('user_dic.txt', 'w', encoding='utf-8') as f:\n",
    "    for noun in custom_nouns:\n",
    "        f.write(f\"{noun}\\tNNG\\n\")\n",
    "\n",
    "# Komoran 객체 생성 시 사용자 정의 사전 로드\n",
    "komoran = Komoran(userdic='user_dic.txt')\n",
    "\n",
    "# 테스트 문장\n",
    "text = \"오늘 점심으로 나시고랭과 국수를 먹었다.\"\n",
    "print(komoran.morphs(text))"
   ]
  },
  {
   "cell_type": "code",
   "execution_count": 42,
   "metadata": {},
   "outputs": [
    {
     "name": "stdout",
     "output_type": "stream",
     "text": [
      "['일식', '부타', '야끼', '우동']\n",
      "['경', '양식', '미트볼', '오므', '라이스']\n"
     ]
    }
   ],
   "source": [
    "from konlpy.tag import Komoran\n",
    "Komoran = Komoran(userdic=original_dir+'/data/feature_lab/menu_map/entity/group/user_dic.txt')\n",
    "text1 = '일식부타야끼우동'\n",
    "text2 = '경양식미트볼오므라이스'\n",
    "print(Komoran.morphs(text1))\n",
    "print(Komoran.morphs(text2))\n",
    "\n"
   ]
  },
  {
   "cell_type": "code",
   "execution_count": 73,
   "metadata": {},
   "outputs": [
    {
     "name": "stdout",
     "output_type": "stream",
     "text": [
      "['중', '화풍', '해물', '잡채', '덮', '밥']\n"
     ]
    }
   ],
   "source": [
    "text3 = ''\n",
    "#print(Komoran.morphs(text3))\n",
    "print(Komoran.nouns('중화풍 해물 잡채 덮 밥'))"
   ]
  },
  {
   "cell_type": "code",
   "execution_count": 40,
   "metadata": {},
   "outputs": [
    {
     "data": {
      "text/plain": [
       "'/Users/al01989093/Desktop/haeyoon_private/cafeteria/data/feature_lab/menu_map/entity/group/user_dic.txt'"
      ]
     },
     "execution_count": 40,
     "metadata": {},
     "output_type": "execute_result"
    }
   ],
   "source": [
    "original_dir+'/data/feature_lab/menu_map/entity/group/user_dic.txt'"
   ]
  }
 ],
 "metadata": {
  "kernelspec": {
   "display_name": "first_pytorch",
   "language": "python",
   "name": "python3"
  },
  "language_info": {
   "codemirror_mode": {
    "name": "ipython",
    "version": 3
   },
   "file_extension": ".py",
   "mimetype": "text/x-python",
   "name": "python",
   "nbconvert_exporter": "python",
   "pygments_lexer": "ipython3",
   "version": "3.11.9"
  }
 },
 "nbformat": 4,
 "nbformat_minor": 2
}
