{
 "cells": [
  {
   "cell_type": "markdown",
   "metadata": {},
   "source": [
    "### 코드 작성일 : 24.7.29 \n",
    "### 코드 목표 : 대표 메뉴 변형"
   ]
  },
  {
   "cell_type": "code",
   "execution_count": 289,
   "metadata": {},
   "outputs": [],
   "source": [
    "import os\n",
    "from konlpy.tag import Komoran\n",
    "\n",
    "if 'original_dir' not in globals() :\n",
    "    original_dir = os.getcwd()\n",
    "    original_dir = os.path.dirname(os.path.dirname(os.path.dirname(os.path.dirname(os.path.dirname(original_dir)))))\n",
    "    os.chdir(original_dir)\n",
    "exec(open('setup/default.py').read())\n",
    "#pd.set_option('display.max_rows', None) # 전체 컬럼 모두 출력\n"
   ]
  },
  {
   "cell_type": "code",
   "execution_count": 290,
   "metadata": {},
   "outputs": [],
   "source": [
    "first_menu_list = pd.read_csv(original_dir + '/data/preproc/main/feature_lab_v1/unique_first_menu.csv')"
   ]
  },
  {
   "cell_type": "code",
   "execution_count": 291,
   "metadata": {},
   "outputs": [],
   "source": [
    "# 단어 사전 만들어두기 \n",
    "high_cat = pd.read_csv(original_dir+'/data/feature_lab/menu_map/entity/group/high_cat.csv').drop_duplicates()['high_cat'].tolist()\n",
    "med_cat = pd.read_csv(original_dir+'/data/feature_lab/menu_map/entity/group/med_cat.csv').drop_duplicates()['med_cat'].tolist()\n",
    "ingredient = pd.read_csv(original_dir+'/data/feature_lab/menu_map/entity/group/ingredient.csv').drop_duplicates()['ingredient'].tolist()\n",
    "adj_cat = pd.read_csv(original_dir+'/data/feature_lab/menu_map/entity/group/adj_cat.csv').drop_duplicates()['adj_cat'].tolist()\n",
    "\n",
    "custom_nouns = high_cat+med_cat+ingredient+adj_cat\n",
    "with open(original_dir+'/data/feature_lab/menu_map/entity/group/user_dic.txt', 'w', encoding='utf-8') as f:\n",
    "    for noun in custom_nouns:\n",
    "        f.write(f\"{noun}\\tNNG\\n\")\n",
    "\n",
    "konlp = Komoran(userdic=original_dir+'/data/feature_lab/menu_map/entity/group/user_dic.txt')"
   ]
  },
  {
   "cell_type": "code",
   "execution_count": 292,
   "metadata": {},
   "outputs": [
    {
     "name": "stderr",
     "output_type": "stream",
     "text": [
      "100%|██████████| 648/648 [00:00<00:00, 12595.04it/s]\n"
     ]
    }
   ],
   "source": [
    "def konlp_split (text) :\n",
    "    res = konlp.nouns(text)\n",
    "    if len(res)==0 : \n",
    "        res = konlp.morphs(text)\n",
    "    return res\n",
    "\n",
    "first_menu_list['menu_comp'] = first_menu_list['menu'].progress_apply(konlp_split)"
   ]
  },
  {
   "cell_type": "code",
   "execution_count": 293,
   "metadata": {},
   "outputs": [
    {
     "name": "stderr",
     "output_type": "stream",
     "text": [
      "100%|██████████| 648/648 [00:00<00:00, 1060854.41it/s]\n"
     ]
    }
   ],
   "source": [
    "synonyms_df = pd.read_csv(original_dir + '/data/feature_lab/menu_map/entity/synonym.csv')\n",
    "synonyms = dict(zip(synonyms_df['same'], synonyms_df['top']))\n",
    "\n",
    "# 메뉴 이름을 교체하는 함수\n",
    "def replace_with_synonym(menu_items):\n",
    "    # 동의어 사전에 있으면 교체, 없으면 원래 값 유지\n",
    "    return [synonyms.get(item, item) for item in menu_items]\n",
    "\n",
    "first_menu_list['menu_comp'] = first_menu_list['menu_comp'].progress_apply(replace_with_synonym)"
   ]
  },
  {
   "cell_type": "code",
   "execution_count": 294,
   "metadata": {},
   "outputs": [],
   "source": [
    "import copy\n",
    "# 'etc' 컬럼에 menu_comp의 깊은 복사본 할당\n",
    "first_menu_list['etc'] = first_menu_list['menu_comp'].apply(copy.deepcopy)\n",
    "\n",
    "def find_and_remove_cat(etc_list, cat_values):\n",
    "    for item in reversed(etc_list):\n",
    "        if item in cat_values:\n",
    "            etc_list.remove(item)  # 원 리스트에서 삭제 \n",
    "            return item\n",
    "    return None\n",
    "\n",
    "def find_and_remove_all_cat(etc_list, cat_values):\n",
    "    matched_items = [item for item in etc_list if item in cat_values]\n",
    "    etc_list[:] = [item for item in etc_list if item not in cat_values]\n",
    "    return list(set(matched_items)) if matched_items else None\n",
    "\n",
    "\n",
    "first_menu_list['high_cat'] = first_menu_list['etc'].apply(lambda x: find_and_remove_cat(x, high_cat) if x else None)\n",
    "first_menu_list['med_cat'] = first_menu_list['etc'].apply(lambda x: find_and_remove_cat(x, med_cat) if x else None)\n",
    "first_menu_list['ingredient'] = first_menu_list['etc'].apply(lambda x: find_and_remove_all_cat(x, ingredient+high_cat) if x else None)\n"
   ]
  },
  {
   "cell_type": "code",
   "execution_count": 295,
   "metadata": {},
   "outputs": [],
   "source": [
    "condition = first_menu_list['high_cat'].isna() & first_menu_list['med_cat'].isna() & first_menu_list['ingredient'].isna()\n",
    "first_menu_list.loc[condition, 'ingredient'] = first_menu_list.loc[condition, 'menu'].apply(lambda x: [x])\n"
   ]
  },
  {
   "cell_type": "code",
   "execution_count": 296,
   "metadata": {},
   "outputs": [],
   "source": [
    "first_menu_list.to_csv(original_dir + '/data/preproc/main/feature_lab_v1/unique_first_menu_w_component.csv',index=False)"
   ]
  },
  {
   "cell_type": "code",
   "execution_count": 297,
   "metadata": {},
   "outputs": [],
   "source": [
    "high_cat = pd.read_csv(original_dir+'/data/feature_lab/menu_map/entity/group/high_cat.csv')\n",
    "def calculate_sim_high_cat(x, target_high_cat):\n",
    "    # target_high_cat의 big_category 추출\n",
    "    target_category = high_cat.loc[high_cat.high_cat == target_high_cat, 'big_category']\n",
    "    # x의 big_category 추출\n",
    "    x_category = high_cat.loc[high_cat.high_cat == x, 'big_category']\n",
    "    \n",
    "    # target_category와 x_category가 비어있지 않은지 확인\n",
    "    target_cat_value = target_category.values[0] if not target_category.empty else None\n",
    "    x_cat_value = x_category.values[0] if not x_category.empty else None\n",
    "\n",
    "    # 조건에 따라 값을 반환\n",
    "    if target_cat_value == '고기' and x is None:\n",
    "        return 0.5\n",
    "    if x_cat_value == '고기' and target_high_cat is None:\n",
    "        return 0.5\n",
    "    \n",
    "    if target_high_cat is None and x is None: \n",
    "        return None\n",
    "    if x == target_high_cat:  # 완전 동일\n",
    "        return 1\n",
    "    elif target_cat_value == x_cat_value:  # 유사 식품\n",
    "        return 0.7\n",
    "    else:\n",
    "        return 0\n",
    "\n",
    "\n",
    "def calculate_sim_ingredient(x, target_ingredient):\n",
    "    x_set = set(x or [])\n",
    "    target_set = set(target_ingredient or [])\n",
    "    intersection_len = len(target_set & x_set)\n",
    "    min_len = min(len(target_set), len(x_set))\n",
    "    return intersection_len / min_len if min_len > 0 else 0\n",
    "\n",
    "\n",
    "def calculate_sim(x, y, z):\n",
    "    if x is None : \n",
    "        return z \n",
    "    else :\n",
    "        return x*0.4 + y*0.2 + z*0.4"
   ]
  },
  {
   "cell_type": "code",
   "execution_count": 298,
   "metadata": {},
   "outputs": [
    {
     "data": {
      "text/html": [
       "<div>\n",
       "<style scoped>\n",
       "    .dataframe tbody tr th:only-of-type {\n",
       "        vertical-align: middle;\n",
       "    }\n",
       "\n",
       "    .dataframe tbody tr th {\n",
       "        vertical-align: top;\n",
       "    }\n",
       "\n",
       "    .dataframe thead th {\n",
       "        text-align: right;\n",
       "    }\n",
       "</style>\n",
       "<table border=\"1\" class=\"dataframe\">\n",
       "  <thead>\n",
       "    <tr style=\"text-align: right;\">\n",
       "      <th></th>\n",
       "      <th>target_menu</th>\n",
       "      <th>menu</th>\n",
       "      <th>menu_comp</th>\n",
       "      <th>etc</th>\n",
       "      <th>high_cat</th>\n",
       "      <th>med_cat</th>\n",
       "      <th>ingredient</th>\n",
       "      <th>high_cat_sim</th>\n",
       "      <th>med_cat_sim</th>\n",
       "      <th>ingredient_sim</th>\n",
       "      <th>sim_score</th>\n",
       "    </tr>\n",
       "  </thead>\n",
       "  <tbody>\n",
       "    <tr>\n",
       "      <th>0</th>\n",
       "      <td>투움바파스타</td>\n",
       "      <td>투움바파스타</td>\n",
       "      <td>[투움바, 파스타]</td>\n",
       "      <td>[]</td>\n",
       "      <td>파스타</td>\n",
       "      <td>None</td>\n",
       "      <td>[투움바]</td>\n",
       "      <td>1.0</td>\n",
       "      <td>1</td>\n",
       "      <td>1.0</td>\n",
       "      <td>1.0</td>\n",
       "    </tr>\n",
       "    <tr>\n",
       "      <th>1</th>\n",
       "      <td>투움바파스타</td>\n",
       "      <td>닭곰탕</td>\n",
       "      <td>[닭, 곰, 탕]</td>\n",
       "      <td>[]</td>\n",
       "      <td>탕</td>\n",
       "      <td>곰</td>\n",
       "      <td>[닭]</td>\n",
       "      <td>0.0</td>\n",
       "      <td>0</td>\n",
       "      <td>0.0</td>\n",
       "      <td>0.0</td>\n",
       "    </tr>\n",
       "    <tr>\n",
       "      <th>2</th>\n",
       "      <td>투움바파스타</td>\n",
       "      <td>육감쫄면</td>\n",
       "      <td>[육감, 쫄, 면]</td>\n",
       "      <td>[육감]</td>\n",
       "      <td>면</td>\n",
       "      <td>쫄</td>\n",
       "      <td>None</td>\n",
       "      <td>0.0</td>\n",
       "      <td>0</td>\n",
       "      <td>0.0</td>\n",
       "      <td>0.0</td>\n",
       "    </tr>\n",
       "    <tr>\n",
       "      <th>3</th>\n",
       "      <td>투움바파스타</td>\n",
       "      <td>차돌된장찌개</td>\n",
       "      <td>[차돌, 된장, 찌개]</td>\n",
       "      <td>[]</td>\n",
       "      <td>찌개</td>\n",
       "      <td>None</td>\n",
       "      <td>[차돌, 된장]</td>\n",
       "      <td>0.0</td>\n",
       "      <td>1</td>\n",
       "      <td>0.0</td>\n",
       "      <td>0.2</td>\n",
       "    </tr>\n",
       "    <tr>\n",
       "      <th>4</th>\n",
       "      <td>투움바파스타</td>\n",
       "      <td>매실청돈육불고기</td>\n",
       "      <td>[매실청, 돼지, 불고기]</td>\n",
       "      <td>[]</td>\n",
       "      <td>None</td>\n",
       "      <td>None</td>\n",
       "      <td>[돼지, 불고기, 매실청]</td>\n",
       "      <td>0.0</td>\n",
       "      <td>1</td>\n",
       "      <td>0.0</td>\n",
       "      <td>0.2</td>\n",
       "    </tr>\n",
       "  </tbody>\n",
       "</table>\n",
       "</div>"
      ],
      "text/plain": [
       "  target_menu      menu       menu_comp   etc high_cat med_cat  \\\n",
       "0      투움바파스타    투움바파스타      [투움바, 파스타]    []      파스타    None   \n",
       "1      투움바파스타       닭곰탕       [닭, 곰, 탕]    []        탕       곰   \n",
       "2      투움바파스타      육감쫄면      [육감, 쫄, 면]  [육감]        면       쫄   \n",
       "3      투움바파스타    차돌된장찌개    [차돌, 된장, 찌개]    []       찌개    None   \n",
       "4      투움바파스타  매실청돈육불고기  [매실청, 돼지, 불고기]    []     None    None   \n",
       "\n",
       "       ingredient  high_cat_sim  med_cat_sim  ingredient_sim  sim_score  \n",
       "0           [투움바]           1.0            1             1.0        1.0  \n",
       "1             [닭]           0.0            0             0.0        0.0  \n",
       "2            None           0.0            0             0.0        0.0  \n",
       "3        [차돌, 된장]           0.0            1             0.0        0.2  \n",
       "4  [돼지, 불고기, 매실청]           0.0            1             0.0        0.2  "
      ]
     },
     "execution_count": 298,
     "metadata": {},
     "output_type": "execute_result"
    }
   ],
   "source": [
    "fin_sim_df.iloc[:5]"
   ]
  },
  {
   "cell_type": "code",
   "execution_count": 299,
   "metadata": {},
   "outputs": [
    {
     "name": "stderr",
     "output_type": "stream",
     "text": [
      "100%|██████████| 648/648 [01:00<00:00, 10.74it/s]\n"
     ]
    }
   ],
   "source": [
    "fin_sim_df = pd.DataFrame()\n",
    "for i in tqdm(range(first_menu_list.shape[0])):\n",
    "    target_menu = first_menu_list.menu[i]\n",
    "    target_high_cat = first_menu_list.high_cat[i]\n",
    "    target_med_cat = first_menu_list.med_cat[i]\n",
    "    target_ingredient = first_menu_list.ingredient[i]\n",
    "\n",
    "    relate_df = first_menu_list.copy()\n",
    "    relate_df['high_cat_sim'] = relate_df['high_cat'].apply(lambda x: calculate_sim_high_cat(x,target_high_cat))\n",
    "    relate_df['med_cat_sim'] = relate_df['med_cat'].apply(lambda x: 1 if x==target_med_cat else 0)\n",
    "    relate_df['ingredient_sim'] = relate_df['ingredient'].apply(lambda x: calculate_sim_ingredient(x,target_ingredient))\n",
    "    relate_df['sim_score'] = relate_df.apply(\n",
    "    lambda row: calculate_sim(row['high_cat_sim'], row['med_cat_sim'], row['ingredient_sim']),\n",
    "    axis=1\n",
    "    )   \n",
    "    \n",
    "    relate_df.insert(0, 'target_menu', target_menu)\n",
    "    fin_sim_df = pd.concat([fin_sim_df, relate_df])"
   ]
  },
  {
   "cell_type": "code",
   "execution_count": 300,
   "metadata": {},
   "outputs": [],
   "source": [
    "fin_sim_df.sort_values(by=['target_menu','sim_score'],ascending=False).\\\n",
    "to_csv(original_dir + '/data/preproc/main/feature_lab_v1/first_menu_similarity.csv',index=False)"
   ]
  },
  {
   "cell_type": "code",
   "execution_count": null,
   "metadata": {},
   "outputs": [],
   "source": []
  }
 ],
 "metadata": {
  "kernelspec": {
   "display_name": "base",
   "language": "python",
   "name": "python3"
  },
  "language_info": {
   "codemirror_mode": {
    "name": "ipython",
    "version": 3
   },
   "file_extension": ".py",
   "mimetype": "text/x-python",
   "name": "python",
   "nbconvert_exporter": "python",
   "pygments_lexer": "ipython3",
   "version": "3.11.9"
  }
 },
 "nbformat": 4,
 "nbformat_minor": 2
}
