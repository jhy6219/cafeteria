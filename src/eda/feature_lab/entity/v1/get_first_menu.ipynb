{
 "cells": [
  {
   "cell_type": "markdown",
   "metadata": {},
   "source": [
    "### 코드 작성일 : 24.7.29 \n",
    "### 코드 목표 : 대표 메뉴 추출 "
   ]
  },
  {
   "cell_type": "code",
   "execution_count": 1,
   "metadata": {},
   "outputs": [
    {
     "name": "stderr",
     "output_type": "stream",
     "text": [
      "/Users/al01989093/anaconda3/envs/first_pytorch/lib/python3.11/site-packages/fuzzywuzzy/fuzz.py:11: UserWarning: Using slow pure-python SequenceMatcher. Install python-Levenshtein to remove this warning\n",
      "  warnings.warn('Using slow pure-python SequenceMatcher. Install python-Levenshtein to remove this warning')\n"
     ]
    }
   ],
   "source": [
    "import os\n",
    "#from hanspell import spell_checker\n",
    "\n",
    "if 'original_dir' not in globals() :\n",
    "    original_dir = os.getcwd()\n",
    "    original_dir = os.path.dirname(os.path.dirname(os.path.dirname(os.path.dirname(os.path.dirname(original_dir)))))\n",
    "    os.chdir(original_dir)\n",
    "exec(open('setup/default.py').read())"
   ]
  },
  {
   "cell_type": "code",
   "execution_count": 2,
   "metadata": {},
   "outputs": [],
   "source": [
    "menu_w_sold_out = pd.read_csv(os.getcwd()+'/data/preproc/main/menu_w_soldout.csv')"
   ]
  },
  {
   "cell_type": "markdown",
   "metadata": {},
   "source": [
    "#### 대표 메뉴 추출 \n",
    "##### 클렌징 "
   ]
  },
  {
   "cell_type": "code",
   "execution_count": 3,
   "metadata": {},
   "outputs": [],
   "source": [
    "# 클렌징 \n",
    "def filter_text(text):\n",
    "    # '>'가 있는 경우 '>' 뒤의 텍스트 추출\n",
    "    if '>' in text:\n",
    "        text = text.replace('>,', '>') # 만약 <~>,이런식으로 붙어있으면 변경해주기\n",
    "        text = text.split('>')[-1]\n",
    "    # ','가 있는 경우 ',' 앞의 텍스트 추출\n",
    "    if ',' in text:\n",
    "        text = text.split(',')[0]\n",
    "    # 특수문자 이후의 텍스트 제거\n",
    "    text = re.sub(r'[(*&].*$', '', text).strip()\n",
    "    return text\n",
    "\n",
    "menu_w_sold_out['first_menu_unpreproc'] = menu_w_sold_out['course'].apply(filter_text)\n"
   ]
  },
  {
   "cell_type": "markdown",
   "metadata": {},
   "source": [
    "##### 맞춤법 교정 "
   ]
  },
  {
   "cell_type": "code",
   "execution_count": 4,
   "metadata": {},
   "outputs": [],
   "source": [
    "import string\n",
    "\n",
    "# 특수 기호와 숫자를 제거하는 함수 + 함박 뒤에 스테이크 추가 \n",
    "def replace_text(text, replacements):\n",
    "    # 교체 작업\n",
    "    for key, value in replacements.items():\n",
    "        text = text.replace(key, value)\n",
    "    \n",
    "    # 숫자와 특수 기호 제거\n",
    "    text = ''.join(c for c in text if c not in string.punctuation and not c.isdigit())\n",
    "    \n",
    "    # \"함박\" 뒤에 \"스테이크\" 추가\n",
    "    if \"함박\" in text and \"스테이크\" not in text:\n",
    "        text = text.replace(\"함박\", \"함박 스테이크\")\n",
    "    elif \"함바그\" in text and \"스테이크\" not in text:\n",
    "        text = text.replace(\"함바그\", \"함박 스테이크\")\n",
    "\n",
    "    if text.endswith(\"카레\") or text.endswith(\"커리\"):\n",
    "        text += \" 라이스\"\n",
    "    return text\n",
    "\n",
    "\n",
    "# Replacements dictionary\n",
    "replacements = {\n",
    "    \"돈가스\": \"돈까스\",\n",
    "    \"치킨가스\": \"치킨까스\",\n",
    "    \"자장\": \"짜장\",\n",
    "    \"코든블루\": \"코돈브루\",\n",
    "    \"코든브루\": \"코돈브루\",\n",
    "    \"코돈블루\": \"코돈브루\",\n",
    "    \"플래이트\": \"\",\n",
    "    \"플레이트\": \"\",\n",
    "    \"플래터\": \"\",\n",
    "    \"플레터\": \"\",\n",
    "    \"정식\": \"\",\n",
    "    \"뼈없는\" : \"\",\n",
    "    \"소세지\": \"소시지\",\n",
    "    \"돈유\": \"돈육\",\n",
    "    \"함바그\" : \"함박\",\n",
    "    \"커틀렛\" : \"커틀릿\",\n",
    "    \"오무\" : \"오므\",\n",
    "    \"뽀모로\" : \"뽀모도로\",\n",
    "    \"복이\" : \"볶이\",\n",
    "    \"블백\" : \"불백\",\n",
    "    \"런치\" : \"\", \n",
    "    \"스페셜\" : \"\",\n",
    "    \"스램\":\"스팸\",\n",
    "    \"므쌉\":\"무쌉\",\n",
    "    \"클럼블\" : \"크럼블\",\n",
    "    \"카케\":\"카레\"\n",
    "}\n",
    "\n",
    "# DataFrame에 함수 적용\n",
    "menu_w_sold_out['first_menu'] = menu_w_sold_out['first_menu_unpreproc'].apply(lambda x: replace_text(x, replacements))\n"
   ]
  },
  {
   "cell_type": "code",
   "execution_count": 5,
   "metadata": {},
   "outputs": [],
   "source": [
    "# 성능이 그렇게 좋지 않아서 안하는게 나아보임. \n",
    "# def spell_check(text):\n",
    "#     result = spell_checker.check(text).checked\n",
    "#     return result\n",
    "\n",
    "# # 진행 상황을 표시하면서 apply 적용\n",
    "# menu_w_sold_out['first_menu'] = menu_w_sold_out['first_menu_unpreproc'].progress_apply(spell_check)"
   ]
  },
  {
   "cell_type": "code",
   "execution_count": 6,
   "metadata": {},
   "outputs": [],
   "source": [
    "menu_w_sold_out.to_csv(original_dir+'/data/preproc/main/feature_lab_v1/menu_w_soldout_w_first_menu.csv',index =False)"
   ]
  },
  {
   "cell_type": "code",
   "execution_count": 7,
   "metadata": {},
   "outputs": [],
   "source": [
    "pd.DataFrame(data={'menu':menu_w_sold_out['first_menu'].unique().tolist()}).to_csv(original_dir+'/data/preproc/main/feature_lab_v1/unique_first_menu.csv',index =False)"
   ]
  }
 ],
 "metadata": {
  "kernelspec": {
   "display_name": "base",
   "language": "python",
   "name": "python3"
  },
  "language_info": {
   "codemirror_mode": {
    "name": "ipython",
    "version": 3
   },
   "file_extension": ".py",
   "mimetype": "text/x-python",
   "name": "python",
   "nbconvert_exporter": "python",
   "pygments_lexer": "ipython3",
   "version": "3.11.9"
  }
 },
 "nbformat": 4,
 "nbformat_minor": 2
}
