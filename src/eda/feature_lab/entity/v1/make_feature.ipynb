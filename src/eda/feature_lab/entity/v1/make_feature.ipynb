{
 "cells": [
  {
   "cell_type": "markdown",
   "metadata": {},
   "source": [
    "작성일 : 24.8.17 \n",
    "\n",
    "#  각종 피쳐추가 \n",
    "1. 유사 메뉴\n",
    "- 몇번 나왔는지\n",
    "- 품절률 \n",
    "2. 상대 메뉴 "
   ]
  },
  {
   "cell_type": "code",
   "execution_count": 49,
   "metadata": {},
   "outputs": [],
   "source": [
    "import os\n",
    "\n",
    "if 'original_dir' not in globals() :\n",
    "    original_dir = os.getcwd()\n",
    "    original_dir = os.path.dirname(os.path.dirname(os.path.dirname(os.path.dirname(os.path.dirname(original_dir)))))\n",
    "    os.chdir(original_dir)\n",
    "from setup.default import *\n",
    "import scipy.stats as stats\n"
   ]
  },
  {
   "cell_type": "code",
   "execution_count": 50,
   "metadata": {},
   "outputs": [],
   "source": [
    "menu_w_sold_out = pd.read_csv(os.getcwd()+'/data/preproc/main/feature_lab_v1/menu_w_soldout_w_first_menu.csv')\n",
    "menu_w_sold_out['menu_no'] = menu_w_sold_out.groupby(['day', 'meal_time'])['day'].transform('size')\n",
    "#menu_w_sold_out = menu_w_sold_out[['post_no','day','meal_time','course_no','first_menu','menu_no','is_soldout']]\n",
    "target_w_sold_out = menu_w_sold_out[(menu_w_sold_out.menu_no>1)&\n",
    "                     (menu_w_sold_out.day>='2023-06-01')&\n",
    "                     (menu_w_sold_out.meal_time =='dinner')].reset_index(drop=True)"
   ]
  },
  {
   "cell_type": "code",
   "execution_count": 51,
   "metadata": {},
   "outputs": [],
   "source": [
    "# 유사도가 높은 식품\n",
    "first_menu_similarity = pd.read_csv(os.getcwd()+'/data/preproc/main/feature_lab_v1/first_menu_similarity.csv')\n",
    "\n",
    "threshold = 0.7\n",
    "first_menu_similarity = first_menu_similarity.loc[first_menu_similarity.sim_score>=threshold,['target_menu','menu','sim_score']]"
   ]
  },
  {
   "cell_type": "code",
   "execution_count": 52,
   "metadata": {},
   "outputs": [],
   "source": [
    "target_w_sold_out['sim_menu'] = 0\n",
    "target_w_sold_out['only_menu_2'] = 0\n",
    "target_w_sold_out['only_menu_2_soldout'] = 0\n",
    "target_w_sold_out['soldout_ratio'] = float('nan')"
   ]
  },
  {
   "cell_type": "code",
   "execution_count": 53,
   "metadata": {},
   "outputs": [
    {
     "name": "stderr",
     "output_type": "stream",
     "text": [
      "100%|██████████| 372/372 [00:00<00:00, 514.88it/s]\n"
     ]
    }
   ],
   "source": [
    "for i in tqdm(range(target_w_sold_out.shape[0])):\n",
    "    target_menu, target_date, target_mt = target_w_sold_out.loc[i, ['first_menu', 'day', 'meal_time']]\n",
    "    # 유사 메뉴 \n",
    "    sim_menu = first_menu_similarity[first_menu_similarity.target_menu == target_menu].menu.tolist()\n",
    "    # 구간 시작일 \n",
    "    start_date = (datetime.strptime(target_date, \"%Y-%m-%d\") - relativedelta(months=6) + relativedelta(days=1)).strftime('%Y-%m-%d')\n",
    "    if target_mt == 'lunch' : # lunch인 경우 (6달 전 ~ 어제)\n",
    "        target_df1 = menu_w_sold_out[(menu_w_sold_out.day>=start_date) &         \n",
    "                            (menu_w_sold_out.meal_time=='lunch') &\n",
    "                            (menu_w_sold_out.day<target_date) &\n",
    "                            (menu_w_sold_out.first_menu.isin(sim_menu))\n",
    "                            ]\n",
    "    # dinner only (6달 전 ~ 오늘 점심)\n",
    "    target_df_dinner_only = menu_w_sold_out[(menu_w_sold_out.day>=start_date) & \n",
    "                        (menu_w_sold_out.day<=target_date)&\n",
    "                        (menu_w_sold_out.meal_time=='dinner') &\n",
    "                        ((menu_w_sold_out.day!=target_date)|(menu_w_sold_out.meal_time!='dinner')) &\n",
    "                        (menu_w_sold_out.first_menu.isin(sim_menu))\n",
    "                        ]    \n",
    "    # 전체 (점심 +저녁 포함)\n",
    "    target_df = menu_w_sold_out[(menu_w_sold_out.day>=start_date) & \n",
    "                        (menu_w_sold_out.day<=target_date)&\n",
    "                        #(menu_w_sold_out.meal_time=='dinner') &\n",
    "                        ((menu_w_sold_out.day!=target_date)|(menu_w_sold_out.meal_time!='dinner')) &\n",
    "                        (menu_w_sold_out.first_menu.isin(sim_menu))\n",
    "                        ] \n",
    "\n",
    "\n",
    "    sim_menu = len(target_df) # 몇번 나왔는지?\n",
    "    # 품절률 계산용 \n",
    "    only_menu_2 = (target_df['menu_no'] >= 2).sum() # 메뉴 2개 이상 나온 경우\n",
    "    only_menu_2_soldout = ((target_df['menu_no'] >= 2) & target_df['is_soldout']).sum() # 메뉴 2개 이상 나왔는데 품절\n",
    "    if only_menu_2>=3 :\n",
    "        soldout_ratio = only_menu_2_soldout/only_menu_2\n",
    "    else :\n",
    "        soldout_ratio = float('nan')\n",
    "\n",
    "    target_w_sold_out.loc[i, ['sim_menu', 'only_menu_2', 'only_menu_2_soldout', 'soldout_ratio']] = sim_menu, only_menu_2, only_menu_2_soldout, soldout_ratio"
   ]
  },
  {
   "cell_type": "code",
   "execution_count": 54,
   "metadata": {},
   "outputs": [],
   "source": [
    "#target_w_sold_out['soldout_ratio'].fillna(target_w_sold_out['soldout_ratio'].median(), inplace=True)"
   ]
  },
  {
   "cell_type": "code",
   "execution_count": 55,
   "metadata": {},
   "outputs": [
    {
     "data": {
      "image/png": "[encoded data removed]",
      "text/plain": [
       "<Figure size 640x480 with 1 Axes>"
      ]
     },
     "metadata": {},
     "output_type": "display_data"
    }
   ],
   "source": [
    "import matplotlib.pyplot as plt\n",
    "\n",
    "# 히스토그램 그리기\n",
    "target_w_sold_out['soldout_ratio'].plot(kind='hist', bins=20, range=(0, 1), alpha=0.75)\n",
    "plt.xlabel('Value')\n",
    "plt.ylabel('Frequency')\n",
    "plt.title('Histogram of soldout%')\n",
    "plt.show()\n"
   ]
  },
  {
   "cell_type": "code",
   "execution_count": 68,
   "metadata": {},
   "outputs": [],
   "source": [
    "#pd.mertarget_w_sold_out,\n",
    "\n",
    "\n",
    "target_w_sold_out_c = target_w_sold_out[['day','meal_time','course_no','sim_menu','only_menu_2','only_menu_2_soldout','soldout_ratio']].copy()\n",
    "target_w_sold_out_c.rename(columns = {\\\n",
    "    'course_no':'course_no_c',\n",
    "    'sim_menu':'sim_menu_c',\n",
    "    'only_menu_2':'only_menu_2_c',\n",
    "    'only_menu_2_soldout':'only_menu_2_soldout_c',\n",
    "    'soldout_ratio':'soldout_ratio_c'\n",
    "},inplace=True)"
   ]
  },
  {
   "cell_type": "code",
   "execution_count": 71,
   "metadata": {},
   "outputs": [],
   "source": [
    "target_w_sold_out_fin = pd.merge(\n",
    "    target_w_sold_out,\n",
    "    target_w_sold_out_c,\n",
    "    how='left',\n",
    "    on =['day','meal_time']\n",
    "    )\n",
    "target_w_sold_out_fin = target_w_sold_out_fin[target_w_sold_out_fin.course_no!=target_w_sold_out_fin.course_no_c]"
   ]
  },
  {
   "cell_type": "code",
   "execution_count": 73,
   "metadata": {},
   "outputs": [],
   "source": [
    "target_w_sold_out_fin.to_csv(original_dir+'/data/preproc/main/feature_lab_v1/menu_w_soldout_w_soldout_ratio.csv',index=False)"
   ]
  }
 ],
 "metadata": {
  "kernelspec": {
   "display_name": "first_pytorch",
   "language": "python",
   "name": "python3"
  },
  "language_info": {
   "codemirror_mode": {
    "name": "ipython",
    "version": 3
   },
   "file_extension": ".py",
   "mimetype": "text/x-python",
   "name": "python",
   "nbconvert_exporter": "python",
   "pygments_lexer": "ipython3",
   "version": "3.11.9"
  }
 },
 "nbformat": 4,
 "nbformat_minor": 2
}
