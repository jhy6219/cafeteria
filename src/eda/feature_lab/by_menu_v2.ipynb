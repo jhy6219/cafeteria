{
 "cells": [
  {
   "cell_type": "code",
   "execution_count": 1,
   "metadata": {},
   "outputs": [
    {
     "name": "stderr",
     "output_type": "stream",
     "text": [
      "/Users/user/anaconda3/lib/python3.11/site-packages/fuzzywuzzy/fuzz.py:11: UserWarning: Using slow pure-python SequenceMatcher. Install python-Levenshtein to remove this warning\n",
      "  warnings.warn('Using slow pure-python SequenceMatcher. Install python-Levenshtein to remove this warning')\n"
     ]
    }
   ],
   "source": [
    "# 코드 작성일 : 24.7.4 -> 대표메뉴 추출 + 유사 메뉴 추출 \n",
    "import os\n",
    "from concurrent.futures import ThreadPoolExecutor\n",
    "\n",
    "if 'original_dir' not in globals() :\n",
    "    original_dir = os.getcwd()\n",
    "os.chdir(os.path.dirname(os.path.dirname(os.path.dirname(original_dir))))\n",
    "exec(open('setup/default.py').read())"
   ]
  },
  {
   "cell_type": "code",
   "execution_count": 56,
   "metadata": {},
   "outputs": [],
   "source": [
    "menu_w_sold_out = pd.read_csv(os.getcwd()+'/data/preproc/main/menu_w_soldout.csv')"
   ]
  },
  {
   "cell_type": "code",
   "execution_count": 57,
   "metadata": {},
   "outputs": [],
   "source": [
    "# 클렌징 \n",
    "def filter_text(text):\n",
    "    # '>'가 있는 경우 '>' 뒤의 텍스트 추출\n",
    "    if '>' in text:\n",
    "        text = text.replace('>,', '>') # 만약 <~>,이런식으로 붙어있으면 변경해주기\n",
    "        text = text.split('>')[-1]\n",
    "    # ','가 있는 경우 ',' 앞의 텍스트 추출\n",
    "    if ',' in text:\n",
    "        text = text.split(',')[0]\n",
    "    # 특수문자 이후의 텍스트 제거\n",
    "    text = re.sub(r'[(*&].*$', '', text).strip()\n",
    "    # 공백 제거\n",
    "    text = text.replace(' ', '')\n",
    "    return text\n",
    "\n",
    "# 데이터프레임에 함수 적용\n",
    "menu_w_sold_out['first_menu'] = menu_w_sold_out['course'].apply(filter_text)\n"
   ]
  },
  {
   "cell_type": "code",
   "execution_count": 61,
   "metadata": {},
   "outputs": [],
   "source": [
    "unique_first_menu = pd.DataFrame(menu_w_sold_out[['first_menu']].drop_duplicates()).reset_index(drop=True)\n",
    "unique_first_menu.to_csv(\n",
    "         '/Users/user/Desktop/haeyoon_private/cafeteria/data/feature_lab/menu_map/v2/unique_first_menu.csv',\n",
    "         index= False\n",
    "         )"
   ]
  },
  {
   "cell_type": "code",
   "execution_count": 78,
   "metadata": {},
   "outputs": [
    {
     "name": "stderr",
     "output_type": "stream",
     "text": [
      "100%|██████████| 663/663 [00:14<00:00, 44.51it/s]\n"
     ]
    }
   ],
   "source": [
    "similarity_df = pd.DataFrame()\n",
    "for a_menu in tqdm(unique_first_menu.first_menu) :\n",
    "    similarity_df_by_menu = unique_first_menu.copy()\n",
    "    similarity_df_by_menu['sim_menu'] = a_menu\n",
    "    similarity_df_by_menu['similarity'] = similarity_df_by_menu['first_menu'].apply(lambda x: fuzz.partial_ratio(x, a_menu))\n",
    "    #similarity_df_by_menu = similarity_df_by_menu[similarity_df_by_menu.similarity>=70]\n",
    "    similarity_df = pd.concat([similarity_df,similarity_df_by_menu])"
   ]
  },
  {
   "cell_type": "code",
   "execution_count": 80,
   "metadata": {},
   "outputs": [
    {
     "data": {
      "text/html": [
       "<div>\n",
       "<style scoped>\n",
       "    .dataframe tbody tr th:only-of-type {\n",
       "        vertical-align: middle;\n",
       "    }\n",
       "\n",
       "    .dataframe tbody tr th {\n",
       "        vertical-align: top;\n",
       "    }\n",
       "\n",
       "    .dataframe thead th {\n",
       "        text-align: right;\n",
       "    }\n",
       "</style>\n",
       "<table border=\"1\" class=\"dataframe\">\n",
       "  <thead>\n",
       "    <tr style=\"text-align: right;\">\n",
       "      <th></th>\n",
       "      <th>first_menu</th>\n",
       "      <th>sim_menu</th>\n",
       "      <th>similarity</th>\n",
       "    </tr>\n",
       "  </thead>\n",
       "  <tbody>\n",
       "    <tr>\n",
       "      <th>0</th>\n",
       "      <td>투움바파스타</td>\n",
       "      <td>투움바파스타</td>\n",
       "      <td>100</td>\n",
       "    </tr>\n",
       "    <tr>\n",
       "      <th>0</th>\n",
       "      <td>투움바파스타</td>\n",
       "      <td>로제파스타</td>\n",
       "      <td>60</td>\n",
       "    </tr>\n",
       "    <tr>\n",
       "      <th>0</th>\n",
       "      <td>투움바파스타</td>\n",
       "      <td>바질페스토파스타</td>\n",
       "      <td>50</td>\n",
       "    </tr>\n",
       "    <tr>\n",
       "      <th>0</th>\n",
       "      <td>투움바파스타</td>\n",
       "      <td>달래알리오올리오파스타</td>\n",
       "      <td>50</td>\n",
       "    </tr>\n",
       "    <tr>\n",
       "      <th>0</th>\n",
       "      <td>투움바파스타</td>\n",
       "      <td>투움바리조또</td>\n",
       "      <td>50</td>\n",
       "    </tr>\n",
       "    <tr>\n",
       "      <th>...</th>\n",
       "      <td>...</td>\n",
       "      <td>...</td>\n",
       "      <td>...</td>\n",
       "    </tr>\n",
       "    <tr>\n",
       "      <th>0</th>\n",
       "      <td>투움바파스타</td>\n",
       "      <td>수프카레</td>\n",
       "      <td>0</td>\n",
       "    </tr>\n",
       "    <tr>\n",
       "      <th>0</th>\n",
       "      <td>투움바파스타</td>\n",
       "      <td>매콤비빔국수</td>\n",
       "      <td>0</td>\n",
       "    </tr>\n",
       "    <tr>\n",
       "      <th>0</th>\n",
       "      <td>투움바파스타</td>\n",
       "      <td>우렁강된장찌개</td>\n",
       "      <td>0</td>\n",
       "    </tr>\n",
       "    <tr>\n",
       "      <th>0</th>\n",
       "      <td>투움바파스타</td>\n",
       "      <td>철판오징어떡볶음</td>\n",
       "      <td>0</td>\n",
       "    </tr>\n",
       "    <tr>\n",
       "      <th>0</th>\n",
       "      <td>투움바파스타</td>\n",
       "      <td>취나물버섯밥</td>\n",
       "      <td>0</td>\n",
       "    </tr>\n",
       "  </tbody>\n",
       "</table>\n",
       "<p>663 rows × 3 columns</p>\n",
       "</div>"
      ],
      "text/plain": [
       "   first_menu     sim_menu  similarity\n",
       "0      투움바파스타       투움바파스타         100\n",
       "0      투움바파스타        로제파스타          60\n",
       "0      투움바파스타     바질페스토파스타          50\n",
       "0      투움바파스타  달래알리오올리오파스타          50\n",
       "0      투움바파스타       투움바리조또          50\n",
       "..        ...          ...         ...\n",
       "0      투움바파스타         수프카레           0\n",
       "0      투움바파스타       매콤비빔국수           0\n",
       "0      투움바파스타      우렁강된장찌개           0\n",
       "0      투움바파스타     철판오징어떡볶음           0\n",
       "0      투움바파스타       취나물버섯밥           0\n",
       "\n",
       "[663 rows x 3 columns]"
      ]
     },
     "execution_count": 80,
     "metadata": {},
     "output_type": "execute_result"
    }
   ],
   "source": [
    "similarity_df[similarity_df.first_menu == '투움바파스타'].sort_values(by='similarity',ascending =False)"
   ]
  },
  {
   "cell_type": "code",
   "execution_count": 44,
   "metadata": {},
   "outputs": [
    {
     "data": {
      "text/plain": [
       "0         투움바파스타\n",
       "1            닭곰탕\n",
       "2           육감쫄면\n",
       "3         차돌된장찌개\n",
       "4       매실청돈육불고기\n",
       "          ...   \n",
       "1674      반반만두전골\n",
       "1675     불맛오징어덮밥\n",
       "1685      묵은지닭갈비\n",
       "1695        미니우동\n",
       "1696      취나물버섯밥\n",
       "Name: first_menu, Length: 664, dtype: object"
      ]
     },
     "execution_count": 44,
     "metadata": {},
     "output_type": "execute_result"
    }
   ],
   "source": [
    "pd.to_csv(pd.DataFrame(menu_w_sold_out[['first_menu']].drop_duplicates()),''"
   ]
  },
  {
   "cell_type": "code",
   "execution_count": 6,
   "metadata": {},
   "outputs": [],
   "source": [
    "first_menu_list = menu_w_sold_out.groupby(['first_menu'],dropna=False).size().to_frame('size').reset_index().sort_values(by='size',ascending=False)"
   ]
  },
  {
   "cell_type": "code",
   "execution_count": 7,
   "metadata": {},
   "outputs": [],
   "source": [
    "# 띄어쓰기\n",
    "spacing = Spacing()\n",
    "sentences = first_menu_list.first_menu\n",
    "\n",
    "def process_spacing(sentence):\n",
    "    return spacing(sentence)\n",
    "\n",
    "# ThreadPoolExecutor를 사용하여 동시에 5개의 작업을 수행합니다.\n",
    "with ThreadPoolExecutor(max_workers=5) as executor:\n",
    "    spaced_sentences = list(executor.map(process_spacing, sentences))\n",
    "\n",
    "spaced_menu = pd.DataFrame({\n",
    "    'first_menu': sentences,\n",
    "    'first_menu_sp': spaced_sentences\n",
    "})"
   ]
  },
  {
   "cell_type": "code",
   "execution_count": 9,
   "metadata": {},
   "outputs": [],
   "source": [
    "#spaced_menu.to_csv('/Users/user/Desktop/haeyoon_private/cafeteria/data/feature_lab/menu_map/spaced_menu.csv',index=False)\n",
    "spaced_menu=pd.read_csv('/Users/user/Desktop/haeyoon_private/cafeteria/data/feature_lab/menu_map/spaced_menu.csv')"
   ]
  },
  {
   "cell_type": "code",
   "execution_count": 10,
   "metadata": {},
   "outputs": [],
   "source": [
    "menu_w_sold_out=pd.merge(menu_w_sold_out,spaced_menu, how='left',on='first_menu') "
   ]
  },
  {
   "cell_type": "code",
   "execution_count": 11,
   "metadata": {},
   "outputs": [],
   "source": [
    "first_menu_list = menu_w_sold_out.first_menu_sp.value_counts().to_frame().reset_index()"
   ]
  },
  {
   "cell_type": "code",
   "execution_count": 25,
   "metadata": {},
   "outputs": [
    {
     "data": {
      "text/html": [
       "<div>\n",
       "<style scoped>\n",
       "    .dataframe tbody tr th:only-of-type {\n",
       "        vertical-align: middle;\n",
       "    }\n",
       "\n",
       "    .dataframe tbody tr th {\n",
       "        vertical-align: top;\n",
       "    }\n",
       "\n",
       "    .dataframe thead th {\n",
       "        text-align: right;\n",
       "    }\n",
       "</style>\n",
       "<table border=\"1\" class=\"dataframe\">\n",
       "  <thead>\n",
       "    <tr style=\"text-align: right;\">\n",
       "      <th></th>\n",
       "      <th>first_menu_sp</th>\n",
       "      <th>count</th>\n",
       "      <th>similarity</th>\n",
       "    </tr>\n",
       "  </thead>\n",
       "  <tbody>\n",
       "    <tr>\n",
       "      <th>0</th>\n",
       "      <td>뼈 없는 감자탕</td>\n",
       "      <td>21</td>\n",
       "      <td>18</td>\n",
       "    </tr>\n",
       "    <tr>\n",
       "      <th>1</th>\n",
       "      <td>닭곰탕</td>\n",
       "      <td>18</td>\n",
       "      <td>100</td>\n",
       "    </tr>\n",
       "    <tr>\n",
       "      <th>2</th>\n",
       "      <td>콩비지찌개</td>\n",
       "      <td>17</td>\n",
       "      <td>0</td>\n",
       "    </tr>\n",
       "    <tr>\n",
       "      <th>3</th>\n",
       "      <td>돼지국밥</td>\n",
       "      <td>16</td>\n",
       "      <td>0</td>\n",
       "    </tr>\n",
       "    <tr>\n",
       "      <th>4</th>\n",
       "      <td>마파 두부 덮밥</td>\n",
       "      <td>16</td>\n",
       "      <td>0</td>\n",
       "    </tr>\n",
       "    <tr>\n",
       "      <th>5</th>\n",
       "      <td>돼지 양념구이</td>\n",
       "      <td>15</td>\n",
       "      <td>0</td>\n",
       "    </tr>\n",
       "    <tr>\n",
       "      <th>6</th>\n",
       "      <td>설렁탕</td>\n",
       "      <td>15</td>\n",
       "      <td>33</td>\n",
       "    </tr>\n",
       "    <tr>\n",
       "      <th>7</th>\n",
       "      <td>가츠 동 돈부리</td>\n",
       "      <td>15</td>\n",
       "      <td>0</td>\n",
       "    </tr>\n",
       "    <tr>\n",
       "      <th>8</th>\n",
       "      <td>통마늘 돼 지불백</td>\n",
       "      <td>15</td>\n",
       "      <td>0</td>\n",
       "    </tr>\n",
       "    <tr>\n",
       "      <th>9</th>\n",
       "      <td>옛날 카레라이스</td>\n",
       "      <td>15</td>\n",
       "      <td>0</td>\n",
       "    </tr>\n",
       "  </tbody>\n",
       "</table>\n",
       "</div>"
      ],
      "text/plain": [
       "  first_menu_sp  count  similarity\n",
       "0      뼈 없는 감자탕     21          18\n",
       "1           닭곰탕     18         100\n",
       "2         콩비지찌개     17           0\n",
       "3          돼지국밥     16           0\n",
       "4      마파 두부 덮밥     16           0\n",
       "5       돼지 양념구이     15           0\n",
       "6           설렁탕     15          33\n",
       "7      가츠 동 돈부리     15           0\n",
       "8     통마늘 돼 지불백     15           0\n",
       "9      옛날 카레라이스     15           0"
      ]
     },
     "execution_count": 25,
     "metadata": {},
     "output_type": "execute_result"
    }
   ],
   "source": [
    "first_menu_list.sort_values(by='count',ascending=False).iloc[:10,:]"
   ]
  },
  {
   "cell_type": "code",
   "execution_count": 18,
   "metadata": {},
   "outputs": [
    {
     "ename": "NameError",
     "evalue": "name 'first_menu_list' is not defined",
     "output_type": "error",
     "traceback": [
      "\u001b[0;31m---------------------------------------------------------------------------\u001b[0m",
      "\u001b[0;31mNameError\u001b[0m                                 Traceback (most recent call last)",
      "Cell \u001b[0;32mIn[18], line 5\u001b[0m\n\u001b[1;32m      2\u001b[0m target_text \u001b[38;5;241m=\u001b[39m \u001b[38;5;124m'\u001b[39m\u001b[38;5;124m돼지 국밥\u001b[39m\u001b[38;5;124m'\u001b[39m\n\u001b[1;32m      4\u001b[0m \u001b[38;5;66;03m# 유사도 계산하여 가장 유사한 메뉴 찾기\u001b[39;00m\n\u001b[0;32m----> 5\u001b[0m first_menu_list[\u001b[38;5;124m'\u001b[39m\u001b[38;5;124msimilarity\u001b[39m\u001b[38;5;124m'\u001b[39m] \u001b[38;5;241m=\u001b[39m first_menu_list[\u001b[38;5;124m'\u001b[39m\u001b[38;5;124mfirst_menu_sp\u001b[39m\u001b[38;5;124m'\u001b[39m]\u001b[38;5;241m.\u001b[39mapply(\u001b[38;5;28;01mlambda\u001b[39;00m x: fuzz\u001b[38;5;241m.\u001b[39mtoken_sort_ratio(x, target_text))\n\u001b[1;32m      6\u001b[0m first_menu_list\u001b[38;5;241m.\u001b[39msort_values(by\u001b[38;5;241m=\u001b[39m\u001b[38;5;124m'\u001b[39m\u001b[38;5;124msimilarity\u001b[39m\u001b[38;5;124m'\u001b[39m,ascending\u001b[38;5;241m=\u001b[39m\u001b[38;5;28;01mFalse\u001b[39;00m)\u001b[38;5;241m.\u001b[39miloc[:\u001b[38;5;241m10\u001b[39m,:]\n",
      "\u001b[0;31mNameError\u001b[0m: name 'first_menu_list' is not defined"
     ]
    }
   ],
   "source": [
    "# 비교할 텍스트\n",
    "target_text = '돼지 국밥'\n",
    "\n",
    "# 유사도 계산하여 가장 유사한 메뉴 찾기\n",
    "first_menu_list['similarity'] = first_menu_list['first_menu_sp'].apply(lambda x: fuzz.token_sort_ratio(x, target_text))\n",
    "first_menu_list.sort_values(by='similarity',ascending=False).iloc[:10,:]"
   ]
  }
 ],
 "metadata": {
  "kernelspec": {
   "display_name": "base",
   "language": "python",
   "name": "python3"
  },
  "language_info": {
   "codemirror_mode": {
    "name": "ipython",
    "version": 3
   },
   "file_extension": ".py",
   "mimetype": "text/x-python",
   "name": "python",
   "nbconvert_exporter": "python",
   "pygments_lexer": "ipython3",
   "version": "3.11.7"
  }
 },
 "nbformat": 4,
 "nbformat_minor": 2
}
