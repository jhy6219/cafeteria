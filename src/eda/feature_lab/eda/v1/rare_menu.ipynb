{
 "cells": [
  {
   "cell_type": "code",
   "execution_count": null,
   "metadata": {},
   "outputs": [],
   "source": [
    "# 코드 목적 : 레어 메뉴는 더 품절률이 높냐 \n",
    "# 코드 작성일 : 24.8.6"
   ]
  },
  {
   "cell_type": "code",
   "execution_count": null,
   "metadata": {},
   "outputs": [],
   "source": [
    "import os\n",
    "\n",
    "if 'original_dir' not in globals() :\n",
    "    original_dir = os.getcwd()\n",
    "    original_dir = os.path.dirname(os.path.dirname(os.path.dirname(os.path.dirname(os.path.dirname(original_dir)))))\n",
    "    os.chdir(original_dir)\n",
    "exec(open('setup/default.py').read())\n",
    "import scipy.stats as stats\n"
   ]
  },
  {
   "cell_type": "code",
   "execution_count": null,
   "metadata": {},
   "outputs": [],
   "source": [
    "menu_w_sold_out = pd.read_csv(os.getcwd()+'/data/preproc/main/menu_w_soldout.csv')\n",
    "menu_w_sold_out['menu_no'] = menu_w_sold_out.groupby(['day', 'meal_time'])['day'].transform('size')\n",
    "target_w_sold_out = menu_w_sold_out[(menu_w_sold_out.menu_no>1)&\n",
    "                     (menu_w_sold_out.day>='2023-06-01')]"
   ]
  }
 ],
 "metadata": {
  "language_info": {
   "name": "python"
  }
 },
 "nbformat": 4,
 "nbformat_minor": 2
}
