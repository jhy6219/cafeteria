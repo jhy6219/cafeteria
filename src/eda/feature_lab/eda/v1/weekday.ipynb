{
 "cells": [
  {
   "cell_type": "code",
   "execution_count": 5,
   "metadata": {},
   "outputs": [],
   "source": [
    "import os\n",
    "\n",
    "if 'original_dir' not in globals() :\n",
    "    original_dir = os.getcwd()\n",
    "    original_dir = os.path.dirname(os.path.dirname(os.path.dirname(os.path.dirname(os.path.dirname(original_dir)))))\n",
    "    os.chdir(original_dir)\n",
    "exec(open('setup/default.py').read())\n",
    "import scipy.stats as stats\n"
   ]
  },
  {
   "cell_type": "code",
   "execution_count": 4,
   "metadata": {},
   "outputs": [
    {
     "name": "stdout",
     "output_type": "stream",
     "text": [
      "Collecting scipy\n",
      "  Downloading scipy-1.14.0-cp311-cp311-macosx_14_0_arm64.whl.metadata (60 kB)\n",
      "\u001b[2K     \u001b[90m━━━━━━━━━━━━━━━━━━━━━━━━━━━━━━━━━━━━━━━\u001b[0m \u001b[32m60.8/60.8 kB\u001b[0m \u001b[31m238.4 kB/s\u001b[0m eta \u001b[36m0:00:00\u001b[0ma \u001b[36m0:00:01\u001b[0m\n",
      "\u001b[?25hRequirement already satisfied: numpy<2.3,>=1.23.5 in /Users/al01989093/anaconda3/envs/first_pytorch/lib/python3.11/site-packages (from scipy) (2.0.0)\n",
      "Downloading scipy-1.14.0-cp311-cp311-macosx_14_0_arm64.whl (23.1 MB)\n",
      "\u001b[2K   \u001b[90m━━━━━━━━━━━━━━━━━━━━━━━━━━━━━━━━━━━━━━━━\u001b[0m \u001b[32m23.1/23.1 MB\u001b[0m \u001b[31m16.6 MB/s\u001b[0m eta \u001b[36m0:00:00\u001b[0m00:01\u001b[0m00:01\u001b[0m\n",
      "\u001b[?25hInstalling collected packages: scipy\n",
      "Successfully installed scipy-1.14.0\n"
     ]
    }
   ],
   "source": [
    "!pip install scipy"
   ]
  },
  {
   "cell_type": "code",
   "execution_count": 2,
   "metadata": {},
   "outputs": [],
   "source": [
    "menu_w_sold_out = pd.read_csv(os.getcwd()+'/data/preproc/main/menu_w_soldout.csv')"
   ]
  },
  {
   "cell_type": "code",
   "execution_count": 35,
   "metadata": {},
   "outputs": [],
   "source": [
    "# 요일\n",
    "target_meal = 'lunch'\n",
    "lunch_df= menu_w_sold_out[menu_w_sold_out.meal_time == target_meal].groupby('day_of_week').agg(\n",
    "    tot_day=('day', lambda x: x.nunique()),    # 고유한 date 개수 계산하여 n에 저장\n",
    "    soldout_day=('day', lambda x: x[menu_w_sold_out.is_soldout==True].nunique()) # is_na=True 조건을 만족하는 고유한 date 개수 계산하여 n2에 저장\n",
    ").reset_index()\n",
    "lunch_df['un_soldout_day'] = lunch_df['tot_day']-lunch_df['soldout_day']\n",
    "\n",
    "target_meal = 'dinner'\n",
    "dinner_df= menu_w_sold_out[(menu_w_sold_out.meal_time == target_meal) & (menu_w_sold_out.day_of_week !=\"Friday\")].groupby('day_of_week').agg(\n",
    "    tot_day=('day', lambda x: x.nunique()),    # 고유한 date 개수 계산하여 n에 저장\n",
    "    soldout_day=('day', lambda x: x[menu_w_sold_out.is_soldout==True].nunique()) # is_na=True 조건을 만족하는 고유한 date 개수 계산하여 n2에 저장\n",
    ").reset_index()\n",
    "dinner_df['un_soldout_day'] = dinner_df['tot_day']-dinner_df['soldout_day']\n"
   ]
  },
  {
   "cell_type": "code",
   "execution_count": 37,
   "metadata": {},
   "outputs": [
    {
     "name": "stdout",
     "output_type": "stream",
     "text": [
      "4.667226405103913 0.3231765725175259 4\n",
      "  day_of_week  tot_day  soldout_day  un_soldout_day\n",
      "0      Friday       95           59              36\n",
      "1      Monday       86           48              38\n",
      "2    Thursday       89           52              37\n",
      "3     Tuesday       94           60              34\n",
      "4   Wednesday       96           48              48\n",
      "[[55.14130435 39.85869565]\n",
      " [49.9173913  36.0826087 ]\n",
      " [51.65869565 37.34130435]\n",
      " [54.56086957 39.43913043]\n",
      " [55.72173913 40.27826087]]\n"
     ]
    }
   ],
   "source": [
    "# 코드 참고 : https://brunch.co.kr/@saetae/154\n",
    "# 카이제곱 통계량 , p-value, 자유도, 기대빈도 출력 \n",
    "chi2,p, dof, ef = stats.chi2_contingency(lunch_df[['soldout_day','un_soldout_day']])\n",
    "print(chi2, p, dof)\n",
    "print(lunch_df)\n",
    "print(ef)"
   ]
  },
  {
   "cell_type": "code",
   "execution_count": 40,
   "metadata": {},
   "outputs": [
    {
     "name": "stdout",
     "output_type": "stream",
     "text": [
      "1.6888920378735033 0.6394061672856415 3\n",
      "  day_of_week  tot_day  soldout_day  un_soldout_day\n",
      "0      Monday       85           45              40\n",
      "1    Thursday       97           47              50\n",
      "2     Tuesday       94           53              41\n",
      "3   Wednesday       95           46              49\n",
      "[[43.76010782 41.23989218]\n",
      " [49.93800539 47.06199461]\n",
      " [48.393531   45.606469  ]\n",
      " [48.9083558  46.0916442 ]]\n"
     ]
    }
   ],
   "source": [
    "chi2,p, dof, ef = stats.chi2_contingency(dinner_df[['soldout_day','un_soldout_day']])\n",
    "print(chi2, p, dof)\n",
    "print(dinner_df)\n",
    "print(ef)"
   ]
  }
 ],
 "metadata": {
  "kernelspec": {
   "display_name": "first_pytorch",
   "language": "python",
   "name": "python3"
  },
  "language_info": {
   "codemirror_mode": {
    "name": "ipython",
    "version": 3
   },
   "file_extension": ".py",
   "mimetype": "text/x-python",
   "name": "python",
   "nbconvert_exporter": "python",
   "pygments_lexer": "ipython3",
   "version": "3.11.9"
  }
 },
 "nbformat": 4,
 "nbformat_minor": 2
}
