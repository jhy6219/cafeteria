{
 "cells": [
  {
   "cell_type": "code",
   "execution_count": 6,
   "metadata": {},
   "outputs": [],
   "source": [
    "import os\n",
    "\n",
    "if 'original_dir' not in globals() :\n",
    "    original_dir = os.getcwd()\n",
    "    original_dir = os.path.dirname(os.path.dirname(os.path.dirname(os.path.dirname(os.path.dirname(original_dir)))))\n",
    "    os.chdir(original_dir)\n",
    "exec(open('setup/default.py').read())\n",
    "import scipy.stats as stats\n"
   ]
  },
  {
   "cell_type": "code",
   "execution_count": 7,
   "metadata": {},
   "outputs": [],
   "source": [
    "menu_w_sold_out = pd.read_csv(os.getcwd()+'/data/preproc/main/menu_w_soldout.csv')\n",
    "menu_w_sold_out['menu_no'] = menu_w_sold_out.groupby(['day', 'meal_time'])['day'].transform('size')\n",
    "menu_w_sold_out = menu_w_sold_out[(menu_w_sold_out.menu_no>1)&\n",
    "                     (menu_w_sold_out.day>='2023-06-01')]"
   ]
  },
  {
   "cell_type": "code",
   "execution_count": 18,
   "metadata": {},
   "outputs": [],
   "source": [
    "# 요일\n",
    "target_meal = 'lunch'\n",
    "lunch_df= menu_w_sold_out[(menu_w_sold_out.meal_time == target_meal)].groupby('day_of_week').agg(\n",
    "    tot_day=('day', lambda x: x.nunique()),    # 고유한 date 개수 계산하여 n에 저장\n",
    "    soldout_day=('day', lambda x: x[menu_w_sold_out.is_soldout==True].nunique()) # is_na=True 조건을 만족하는 고유한 date 개수 계산하여 n2에 저장\n",
    ").reset_index()\n",
    "lunch_df['un_soldout_day'] = lunch_df['tot_day']-lunch_df['soldout_day']\n",
    "lunch_df['ratio'] = lunch_df['soldout_day']/lunch_df['tot_day']\n",
    "\n",
    "target_meal = 'dinner'\n",
    "dinner_df= menu_w_sold_out[(menu_w_sold_out.meal_time == target_meal)].groupby('day_of_week').agg(\n",
    "    tot_day=('day', lambda x: x.nunique()),    # 고유한 date 개수 계산하여 n에 저장\n",
    "    soldout_day=('day', lambda x: x[menu_w_sold_out.is_soldout==True].nunique()) # is_na=True 조건을 만족하는 고유한 date 개수 계산하여 n2에 저장\n",
    ").reset_index()\n",
    "dinner_df['un_soldout_day'] = dinner_df['tot_day']-dinner_df['soldout_day']\n",
    "dinner_df['ratio'] = dinner_df['soldout_day']/dinner_df['tot_day']\n"
   ]
  },
  {
   "cell_type": "code",
   "execution_count": 19,
   "metadata": {},
   "outputs": [
    {
     "name": "stdout",
     "output_type": "stream",
     "text": [
      "9.449056768180444 0.050804608176902355 4\n",
      "  day_of_week  tot_day  soldout_day  un_soldout_day     ratio\n",
      "0      Friday       43           29              14  0.674419\n",
      "1      Monday       44           27              17  0.613636\n",
      "2    Thursday       44           26              18  0.590909\n",
      "3     Tuesday       46           32              14  0.695652\n",
      "4   Wednesday       44           18              26  0.409091\n",
      "[[25.68325792 17.31674208]\n",
      " [26.28054299 17.71945701]\n",
      " [26.28054299 17.71945701]\n",
      " [27.47511312 18.52488688]\n",
      " [26.28054299 17.71945701]]\n"
     ]
    }
   ],
   "source": [
    "# 코드 참고 : https://brunch.co.kr/@saetae/154\n",
    "# 카이제곱 통계량 , p-value, 자유도, 기대빈도 출력 \n",
    "# 점심 \n",
    "# 품절이 많은 편 : 화/금, 적은편 : 수/목\n",
    "chi2,p, dof, ef = stats.chi2_contingency(lunch_df[['soldout_day','un_soldout_day']])\n",
    "print(chi2, p, dof)\n",
    "print(lunch_df)\n",
    "print(ef)"
   ]
  },
  {
   "cell_type": "code",
   "execution_count": 20,
   "metadata": {},
   "outputs": [
    {
     "name": "stdout",
     "output_type": "stream",
     "text": [
      "3.833487940630798 0.2800148767789154 3\n",
      "  day_of_week  tot_day  soldout_day  un_soldout_day     ratio\n",
      "0      Monday       44           27              17  0.613636\n",
      "1    Thursday       49           30              19  0.612245\n",
      "2     Tuesday       49           38              11  0.775510\n",
      "3   Wednesday       44           29              15  0.659091\n",
      "[[29.33333333 14.66666667]\n",
      " [32.66666667 16.33333333]\n",
      " [32.66666667 16.33333333]\n",
      " [29.33333333 14.66666667]]\n"
     ]
    }
   ],
   "source": [
    "# 품절이 많은 편 : 화, 적은편 : 월/목\n",
    "chi2,p, dof, ef = stats.chi2_contingency(dinner_df[['soldout_day','un_soldout_day']])\n",
    "print(chi2, p, dof)\n",
    "print(dinner_df)\n",
    "print(ef)"
   ]
  }
 ],
 "metadata": {
  "kernelspec": {
   "display_name": "first_pytorch",
   "language": "python",
   "name": "python3"
  },
  "language_info": {
   "codemirror_mode": {
    "name": "ipython",
    "version": 3
   },
   "file_extension": ".py",
   "mimetype": "text/x-python",
   "name": "python",
   "nbconvert_exporter": "python",
   "pygments_lexer": "ipython3",
   "version": "3.11.9"
  }
 },
 "nbformat": 4,
 "nbformat_minor": 2
}
