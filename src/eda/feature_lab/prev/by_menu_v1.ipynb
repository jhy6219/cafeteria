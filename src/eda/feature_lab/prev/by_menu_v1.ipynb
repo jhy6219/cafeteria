{
 "cells": [
  {
   "cell_type": "code",
   "execution_count": null,
   "metadata": {},
   "outputs": [],
   "source": [
    "# !pip install git+https://github.com/haven-jeon/PyKoSpacing.git\n",
    "# !python3 -m pip install tensorflow"
   ]
  },
  {
   "cell_type": "code",
   "execution_count": 2,
   "metadata": {},
   "outputs": [
    {
     "name": "stderr",
     "output_type": "stream",
     "text": [
      "/Users/user/anaconda3/lib/python3.11/site-packages/fuzzywuzzy/fuzz.py:11: UserWarning: Using slow pure-python SequenceMatcher. Install python-Levenshtein to remove this warning\n",
      "  warnings.warn('Using slow pure-python SequenceMatcher. Install python-Levenshtein to remove this warning')\n"
     ]
    }
   ],
   "source": [
    "# 코드 작성일 : 24.7.4 -> 대표메뉴\n",
    "import os\n",
    "from pykospacing import Spacing\n",
    "from concurrent.futures import ThreadPoolExecutor\n",
    "\n",
    "if 'original_dir' not in globals() :\n",
    "    original_dir = os.getcwd()\n",
    "os.chdir(os.path.dirname(os.path.dirname(os.path.dirname(original_dir))))\n",
    "exec(open('setup/default.py').read())"
   ]
  },
  {
   "cell_type": "code",
   "execution_count": 3,
   "metadata": {},
   "outputs": [],
   "source": [
    "menu_w_sold_out = pd.read_csv(os.getcwd()+'/data/preproc/main/menu_w_soldout.csv')"
   ]
  },
  {
   "cell_type": "code",
   "execution_count": 5,
   "metadata": {},
   "outputs": [],
   "source": [
    "# 클렌징 \n",
    "def filter_text(text):\n",
    "    # '>'가 있는 경우 '>' 뒤의 텍스트 추출\n",
    "    if '>' in text:\n",
    "        text = text.replace('>,', '>') # 만약 <~>,이런식으로 붙어있으면 변경해주기\n",
    "        text = text.split('>')[-1]\n",
    "    # ','가 있는 경우 ',' 앞의 텍스트 추출\n",
    "    if ',' in text:\n",
    "        text = text.split(',')[0]\n",
    "    # 특수문자 이후의 텍스트 제거\n",
    "    text = re.sub(r'[(*&].*$', '', text).strip()\n",
    "    return text\n",
    "\n",
    "# 데이터프레임에 함수 적용\n",
    "menu_w_sold_out['first_menu'] = menu_w_sold_out['course'].apply(filter_text)\n",
    "\n"
   ]
  },
  {
   "cell_type": "code",
   "execution_count": 6,
   "metadata": {},
   "outputs": [],
   "source": [
    "first_menu_list = menu_w_sold_out.groupby(['first_menu'],dropna=False).size().to_frame('size').reset_index().sort_values(by='size',ascending=False)"
   ]
  },
  {
   "cell_type": "code",
   "execution_count": 7,
   "metadata": {},
   "outputs": [],
   "source": [
    "# 띄어쓰기\n",
    "spacing = Spacing()\n",
    "sentences = first_menu_list.first_menu\n",
    "\n",
    "def process_spacing(sentence):\n",
    "    return spacing(sentence)\n",
    "\n",
    "# ThreadPoolExecutor를 사용하여 동시에 5개의 작업을 수행합니다.\n",
    "with ThreadPoolExecutor(max_workers=5) as executor:\n",
    "    spaced_sentences = list(executor.map(process_spacing, sentences))\n",
    "\n",
    "spaced_menu = pd.DataFrame({\n",
    "    'first_menu': sentences,\n",
    "    'first_menu_sp': spaced_sentences\n",
    "})"
   ]
  },
  {
   "cell_type": "code",
   "execution_count": 8,
   "metadata": {},
   "outputs": [],
   "source": [
    "#spaced_menu.to_csv('/Users/user/Desktop/haeyoon_private/cafeteria/data/feature_lab/menu_map/spaced_menu.csv',index=False)\n",
    "spaced_menu=pd.read_csv('/Users/user/Desktop/haeyoon_private/cafeteria/data/feature_lab/menu_map/spaced_menu.csv')"
   ]
  },
  {
   "cell_type": "code",
   "execution_count": 9,
   "metadata": {},
   "outputs": [],
   "source": [
    "menu_w_sold_out=pd.merge(menu_w_sold_out,spaced_menu, how='left',on='first_menu') "
   ]
  },
  {
   "cell_type": "code",
   "execution_count": 10,
   "metadata": {},
   "outputs": [],
   "source": [
    "first_menu_list = menu_w_sold_out.first_menu_sp.value_counts().to_frame().reset_index()"
   ]
  },
  {
   "cell_type": "code",
   "execution_count": 11,
   "metadata": {},
   "outputs": [
    {
     "data": {
      "text/html": [
       "<div>\n",
       "<style scoped>\n",
       "    .dataframe tbody tr th:only-of-type {\n",
       "        vertical-align: middle;\n",
       "    }\n",
       "\n",
       "    .dataframe tbody tr th {\n",
       "        vertical-align: top;\n",
       "    }\n",
       "\n",
       "    .dataframe thead th {\n",
       "        text-align: right;\n",
       "    }\n",
       "</style>\n",
       "<table border=\"1\" class=\"dataframe\">\n",
       "  <thead>\n",
       "    <tr style=\"text-align: right;\">\n",
       "      <th></th>\n",
       "      <th>first_menu_sp</th>\n",
       "      <th>count</th>\n",
       "    </tr>\n",
       "  </thead>\n",
       "  <tbody>\n",
       "    <tr>\n",
       "      <th>0</th>\n",
       "      <td>뼈 없는 감자탕</td>\n",
       "      <td>21</td>\n",
       "    </tr>\n",
       "    <tr>\n",
       "      <th>1</th>\n",
       "      <td>닭곰탕</td>\n",
       "      <td>18</td>\n",
       "    </tr>\n",
       "    <tr>\n",
       "      <th>2</th>\n",
       "      <td>콩비지찌개</td>\n",
       "      <td>17</td>\n",
       "    </tr>\n",
       "    <tr>\n",
       "      <th>3</th>\n",
       "      <td>돼지국밥</td>\n",
       "      <td>16</td>\n",
       "    </tr>\n",
       "    <tr>\n",
       "      <th>4</th>\n",
       "      <td>마파 두부 덮밥</td>\n",
       "      <td>16</td>\n",
       "    </tr>\n",
       "    <tr>\n",
       "      <th>5</th>\n",
       "      <td>돼지 양념구이</td>\n",
       "      <td>15</td>\n",
       "    </tr>\n",
       "    <tr>\n",
       "      <th>6</th>\n",
       "      <td>설렁탕</td>\n",
       "      <td>15</td>\n",
       "    </tr>\n",
       "    <tr>\n",
       "      <th>7</th>\n",
       "      <td>가츠 동 돈부리</td>\n",
       "      <td>15</td>\n",
       "    </tr>\n",
       "    <tr>\n",
       "      <th>8</th>\n",
       "      <td>통마늘 돼 지불백</td>\n",
       "      <td>15</td>\n",
       "    </tr>\n",
       "    <tr>\n",
       "      <th>9</th>\n",
       "      <td>옛날 카레라이스</td>\n",
       "      <td>15</td>\n",
       "    </tr>\n",
       "  </tbody>\n",
       "</table>\n",
       "</div>"
      ],
      "text/plain": [
       "  first_menu_sp  count\n",
       "0      뼈 없는 감자탕     21\n",
       "1           닭곰탕     18\n",
       "2         콩비지찌개     17\n",
       "3          돼지국밥     16\n",
       "4      마파 두부 덮밥     16\n",
       "5       돼지 양념구이     15\n",
       "6           설렁탕     15\n",
       "7      가츠 동 돈부리     15\n",
       "8     통마늘 돼 지불백     15\n",
       "9      옛날 카레라이스     15"
      ]
     },
     "execution_count": 11,
     "metadata": {},
     "output_type": "execute_result"
    }
   ],
   "source": [
    "first_menu_list.sort_values(by='count',ascending=False).iloc[:10,:]"
   ]
  },
  {
   "cell_type": "code",
   "execution_count": 17,
   "metadata": {},
   "outputs": [
    {
     "data": {
      "text/html": [
       "<div>\n",
       "<style scoped>\n",
       "    .dataframe tbody tr th:only-of-type {\n",
       "        vertical-align: middle;\n",
       "    }\n",
       "\n",
       "    .dataframe tbody tr th {\n",
       "        vertical-align: top;\n",
       "    }\n",
       "\n",
       "    .dataframe thead th {\n",
       "        text-align: right;\n",
       "    }\n",
       "</style>\n",
       "<table border=\"1\" class=\"dataframe\">\n",
       "  <thead>\n",
       "    <tr style=\"text-align: right;\">\n",
       "      <th></th>\n",
       "      <th>first_menu_sp</th>\n",
       "      <th>count</th>\n",
       "      <th>similarity</th>\n",
       "    </tr>\n",
       "  </thead>\n",
       "  <tbody>\n",
       "    <tr>\n",
       "      <th>111</th>\n",
       "      <td>마라 탕면</td>\n",
       "      <td>4</td>\n",
       "      <td>75</td>\n",
       "    </tr>\n",
       "    <tr>\n",
       "      <th>584</th>\n",
       "      <td>로제 마라 떡볶이</td>\n",
       "      <td>1</td>\n",
       "      <td>33</td>\n",
       "    </tr>\n",
       "    <tr>\n",
       "      <th>6</th>\n",
       "      <td>설렁탕</td>\n",
       "      <td>15</td>\n",
       "      <td>33</td>\n",
       "    </tr>\n",
       "    <tr>\n",
       "      <th>1</th>\n",
       "      <td>닭곰탕</td>\n",
       "      <td>18</td>\n",
       "      <td>33</td>\n",
       "    </tr>\n",
       "    <tr>\n",
       "      <th>12</th>\n",
       "      <td>양지탕</td>\n",
       "      <td>14</td>\n",
       "      <td>33</td>\n",
       "    </tr>\n",
       "    <tr>\n",
       "      <th>283</th>\n",
       "      <td>꽃도리탕</td>\n",
       "      <td>1</td>\n",
       "      <td>29</td>\n",
       "    </tr>\n",
       "    <tr>\n",
       "      <th>440</th>\n",
       "      <td>돈마호크</td>\n",
       "      <td>1</td>\n",
       "      <td>29</td>\n",
       "    </tr>\n",
       "    <tr>\n",
       "      <th>442</th>\n",
       "      <td>닭도리탕</td>\n",
       "      <td>1</td>\n",
       "      <td>29</td>\n",
       "    </tr>\n",
       "    <tr>\n",
       "      <th>413</th>\n",
       "      <td>동태 알탕</td>\n",
       "      <td>1</td>\n",
       "      <td>25</td>\n",
       "    </tr>\n",
       "    <tr>\n",
       "      <th>130</th>\n",
       "      <td>오므라이스</td>\n",
       "      <td>4</td>\n",
       "      <td>25</td>\n",
       "    </tr>\n",
       "  </tbody>\n",
       "</table>\n",
       "</div>"
      ],
      "text/plain": [
       "    first_menu_sp  count  similarity\n",
       "111         마라 탕면      4          75\n",
       "584     로제 마라 떡볶이      1          33\n",
       "6             설렁탕     15          33\n",
       "1             닭곰탕     18          33\n",
       "12            양지탕     14          33\n",
       "283          꽃도리탕      1          29\n",
       "440          돈마호크      1          29\n",
       "442          닭도리탕      1          29\n",
       "413         동태 알탕      1          25\n",
       "130         오므라이스      4          25"
      ]
     },
     "execution_count": 17,
     "metadata": {},
     "output_type": "execute_result"
    }
   ],
   "source": [
    "# 비교할 텍스트\n",
    "target_text = '마라탕'\n",
    "\n",
    "# 유사도 계산하여 가장 유사한 메뉴 찾기\n",
    "first_menu_list['similarity'] = first_menu_list['first_menu_sp'].apply(lambda x: fuzz.token_sort_ratio(x, target_text))\n",
    "first_menu_list.sort_values(by='similarity',ascending=False).iloc[:10,:]"
   ]
  }
 ],
 "metadata": {
  "kernelspec": {
   "display_name": "base",
   "language": "python",
   "name": "python3"
  },
  "language_info": {
   "codemirror_mode": {
    "name": "ipython",
    "version": 3
   },
   "file_extension": ".py",
   "mimetype": "text/x-python",
   "name": "python",
   "nbconvert_exporter": "python",
   "pygments_lexer": "ipython3",
   "version": "3.11.7"
  }
 },
 "nbformat": 4,
 "nbformat_minor": 2
}
