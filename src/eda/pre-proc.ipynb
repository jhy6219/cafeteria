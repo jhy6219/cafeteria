{
 "cells": [
  {
   "cell_type": "code",
   "execution_count": 1,
   "id": "fb919fea",
   "metadata": {},
   "outputs": [],
   "source": [
    "import os\n",
    "original_dir = os.getcwd()\n",
    "os.chdir(os.path.dirname(os.path.dirname(os.getcwd())))\n",
    "exec(open('setup/default.py').read())"
   ]
  },
  {
   "cell_type": "code",
   "execution_count": 31,
   "id": "fc85f021-3389-419a-8ebb-37e73607f703",
   "metadata": {},
   "outputs": [],
   "source": [
    "raw_df = pd.read_csv(os.getcwd()+'/data/raw_data.csv')"
   ]
  },
  {
   "cell_type": "markdown",
   "id": "3d211c76",
   "metadata": {},
   "source": [
    "## 식단 \n",
    "### 게시글 기반"
   ]
  },
  {
   "cell_type": "code",
   "execution_count": 32,
   "id": "bf67213c-e601-48f0-b82b-89f8a91bdae4",
   "metadata": {},
   "outputs": [],
   "source": [
    "# 필터링 \n",
    "body_df = raw_df[raw_df.type=='body'].copy()\n",
    "body_df.loc[:, 'body'] = body_df['body'].str.replace(r'\\s+|=', '', regex=True) # body에 \\s(공백 = 줄바꿈, 띄어쓰기, 탭) 모두 (+) 제거 \n",
    "body_df = body_df[body_df['body'].str.contains(\"[COURSE1]\")] # COURSE1이 있는 메뉴만 남김. (런치 스페셜은 예외 케이스로 지워두기)\n",
    "body_df.loc[:, 'body'] = body_df['body'].str.replace(r'Kcal', 'kcal', regex=True) # 칼로리 다르게 표기 된것 정리 "
   ]
  },
  {
   "cell_type": "code",
   "execution_count": 33,
   "id": "545d3808",
   "metadata": {},
   "outputs": [],
   "source": [
    "# 오전/오후를 24시간 형식으로 변환\n",
    "body_df['time'] = body_df['time'].str.replace('오전', 'AM').str.replace('오후', 'PM')\n",
    "\n",
    "# time 열을 time 형식으로 변환\n",
    "body_df['time'] = pd.to_datetime(body_df['time'], format='%Y년 %m월 %d일 %p %I:%M', errors='coerce')\n",
    "\n",
    "# 일(day), 시간 (hour), 요일(day of week) 추출\n",
    "body_df['day'] = body_df['time'].dt.date\n",
    "body_df['hour'] = body_df['time'].dt.strftime('%H:%M') \n",
    "body_df['day_of_week'] = body_df['time'].dt.strftime('%A')\n",
    "\n",
    "# 시간 기반 중식, 석식 구분 \n",
    "body_df['type'] = np.where(body_df['time'].dt.strftime('%H').astype(int)<=13, 'lunch',\n",
    "                   np.where(body_df['time'].dt.strftime('%H').astype(int)>=16, 'dinner',''))"
   ]
  },
  {
   "cell_type": "code",
   "execution_count": 53,
   "id": "f10b67bc",
   "metadata": {},
   "outputs": [
    {
     "data": {
      "text/plain": [
       "[datetime.date(2023, 5, 11),\n",
       " datetime.date(2023, 6, 8),\n",
       " datetime.date(2023, 7, 11),\n",
       " datetime.date(2023, 9, 14),\n",
       " datetime.date(2023, 10, 12),\n",
       " datetime.date(2023, 10, 13),\n",
       " datetime.date(2023, 11, 9),\n",
       " datetime.date(2023, 12, 14),\n",
       " datetime.date(2024, 1, 11),\n",
       " datetime.date(2024, 1, 30),\n",
       " datetime.date(2022, 12, 12),\n",
       " datetime.date(2023, 1, 12),\n",
       " datetime.date(2023, 2, 9),\n",
       " datetime.date(2023, 3, 9),\n",
       " datetime.date(2023, 4, 13)]"
      ]
     },
     "execution_count": 53,
     "metadata": {},
     "output_type": "execute_result"
    }
   ],
   "source": [
    "# 가끔 점심 포스팅이 누락된 경우도 있긴 함. (아래는 석식은 포스팅이 있는데, 점심은 포스팅이 없는 경우임.)\n",
    "[x for x in body_df[body_df.type == 'dinner'].day.tolist() if x not in body_df[body_df.type == 'lunch'].day.tolist()]"
   ]
  },
  {
   "cell_type": "code",
   "execution_count": 54,
   "id": "0c9a3b03-c8d7-4319-9b08-a5c47913146e",
   "metadata": {},
   "outputs": [],
   "source": [
    "# 코스 별 특성\n",
    "def extract_course_info(text):\n",
    "    # . : 모든 단일 문자와 일치\n",
    "    # * : 앞의 문자가 0번 이상 반복\n",
    "    # ? : 비탐욕적(가능한 한 적은 문자를) 일치 (? 이 있으면 가장 먼저 나온 kcal에서 끊어주기)\n",
    "    # () : 일치된 부분을 캡처하는 그룹 생성\n",
    "    course1_pattern = r'\\[COURSE1\\](.*?)(\\d+)kcal\\(단백질:(\\d+)g\\)Na함량:(\\d*)mg' # Na 함량은 겂이 비어있는 경우도 있어서 * 표시 \n",
    "    course2_pattern = r'\\[COURSE2\\](.*?)(\\d+)kcal\\(단백질:(\\d+)g\\)Na함량:(\\d*)mg'\n",
    "\n",
    "    course1_match = re.search(course1_pattern, text)\n",
    "    course2_match = re.search(course2_pattern, text)\n",
    "\n",
    "    if course1_match:\n",
    "        course1_menu = course1_match.group(1)\n",
    "        course1_kcal = int(course1_match.group(2)) if course1_match.group(2) != \"\" else np.nan\n",
    "        course1_protein = int(course1_match.group(3)) if course1_match.group(3) != \"\" else np.nan\n",
    "        course1_na = int(course1_match.group(4)) if course1_match.group(4) != \"\" else np.nan\n",
    "    else:\n",
    "        course1_menu, course1_kcal, course1_protein, course1_na = np.nan, np.nan, np.nan, np.nan\n",
    "\n",
    "    if course2_match:\n",
    "        course2_menu = course2_match.group(1)\n",
    "        course2_kcal = int(course2_match.group(2)) if course2_match.group(2) != \"\" else np.nan\n",
    "        course2_protein = int(course2_match.group(3)) if course2_match.group(3) != \"\" else np.nan\n",
    "        course2_na = int(course2_match.group(4)) if course2_match.group(4) != \"\" else np.nan\n",
    "    else:\n",
    "        course2_menu, course2_kcal, course2_protein, course2_na = np.nan, np.nan, np.nan, np.nan\n",
    "\n",
    "    return (course1_menu, course1_kcal, course1_protein, course1_na,\n",
    "            course2_menu, course2_kcal, course2_protein, course2_na)\n",
    "\n",
    "# 새로운 컬럼 추가\n",
    "body_df[['course1', 'course1_kcal', 'course1_protein', 'course1_na',\n",
    "    'course2', 'course2_kcal', 'course2_protein', 'course2_na']] = body_df['body'].apply(lambda x: pd.Series(extract_course_info(x)))"
   ]
  },
  {
   "cell_type": "code",
   "execution_count": 55,
   "id": "e75c10b7",
   "metadata": {},
   "outputs": [],
   "source": [
    "body_df.to_csv(os.getcwd()+'/data/preproc/main/menu.csv', sep=',' ,na_rep='NaN',index = False)"
   ]
  },
  {
   "cell_type": "markdown",
   "id": "d7fc4f8b",
   "metadata": {},
   "source": [
    "## 품절 여부 \n",
    "### 댓글 기반"
   ]
  },
  {
   "cell_type": "code",
   "execution_count": 44,
   "id": "560efdf1",
   "metadata": {},
   "outputs": [
    {
     "name": "stderr",
     "output_type": "stream",
     "text": [
      "/Users/user/first_pytorch/lib/python3.7/site-packages/pandas/core/frame.py:4315: SettingWithCopyWarning: \n",
      "A value is trying to be set on a copy of a slice from a DataFrame\n",
      "\n",
      "See the caveats in the documentation: https://pandas.pydata.org/pandas-docs/stable/user_guide/indexing.html#returning-a-view-versus-a-copy\n",
      "  errors=errors,\n"
     ]
    }
   ],
   "source": [
    "# 관리자가 쓴 댓글만 추출\n",
    "comment_df = raw_df[(raw_df.type=='comment') & \n",
    "                    (raw_df.writer.isin(['Kitchen B1','kitchen B1','B1_Kitchen','원지연','kitchen_B1']))]\n",
    "comment_df.loc[:, 'body'] = comment_df['body'].str.replace(r'\\s+|=', '', regex=True)\n",
    "\n",
    "# 시간 설정\n",
    "# 오전/오후를 24시간 형식으로 변환\n",
    "comment_df.loc[:, 'time'] = comment_df['time'].str.replace('오전', 'AM').str.replace('오후', 'PM')\n",
    "\n",
    "# [참고] comment_df는 날짜 형식이 2가지로 남음. (ex. 2022년 9월 21일, 4월 18일 오후 1:48 )\n",
    "format2 = '%m월 %d일 %p %I:%M'\n",
    "comment_df.loc[:, 'time2'] = pd.to_datetime(comment_df['time'], format=format2, errors='coerce')\n",
    "# time 열을 time 형식으로 변환\n",
    "comment_df.loc[:, 'time2']= pd.to_datetime(comment_df['time2'], format='%Y년 %m월 %d일 %p %I:%M', errors='coerce')\n",
    "# 일(day), 시간 (hour), 요일(day of week) 추출\n",
    "comment_df.loc[:, 'hour'] = comment_df['time2'].dt.strftime('%H:%M') \n",
    "# 불필요한 열 제거\n",
    "comment_df.drop(columns=['time2'], inplace=True)\n"
   ]
  },
  {
   "cell_type": "code",
   "execution_count": 45,
   "id": "933bfdaa",
   "metadata": {},
   "outputs": [],
   "source": [
    "soldout_df= comment_df[comment_df['body'].str.contains(\"품절되|품절로|품절입\")] # 품절되었습니다, 품절로, 품절입니다"
   ]
  },
  {
   "cell_type": "code",
   "execution_count": 46,
   "id": "e010fb21",
   "metadata": {},
   "outputs": [
    {
     "name": "stdout",
     "output_type": "stream",
     "text": [
      "        post_no     type      writer                           body  \\\n",
      "141   926901281  comment  Kitchen B1          2코너품절대체찬두부쑥갓나물이제공됩니다.   \n",
      "198   926901318  comment  Kitchen B1       1코너품절대체찬으로2코너에콩자반이제공됩니다.   \n",
      "232   926901334  comment  Kitchen B1  중식1코너품절대체찬으로2코너에서반반콩자반제공드립니다.   \n",
      "233   926901334  comment  Kitchen B1     2코너품절대체찬반반콩자반->군만두로제공드립니다.   \n",
      "252   926901350  comment  Kitchen B1  중식2코너품절대체찬으로1코너에서김자반볶음이제공됩니다.   \n",
      "272   926901363  comment  Kitchen B1    1코너품절대체찬으로2코너에서쥐어채조림이제공됩니다.   \n",
      "378   926901435  comment  Kitchen B1      1코너품절대체찬으로2코너에서부꾸미가제공됩니다.   \n",
      "398   926901445  comment  Kitchen B1    2코너품절대체찬으로1코너에서감자샐러드가제공됩니다.   \n",
      "697   926901641  comment  Kitchen B1     품절추가찬으로1코너에서감자샐러드를제공해드립니다.   \n",
      "808   926901705  comment  Kitchen B1   중식1코너품절찬으로2코스에서동그랑땡조림이제공됩니다.   \n",
      "997   926901833  comment  Kitchen B1          1코너품절찬으로순두부샐러드가제공됩니다.   \n",
      "1010  926901843  comment  Kitchen B1     1코너품절찬으로2코너에서고구마샐러드가제공됩니다.   \n",
      "1797  926901130  comment  Kitchen B1                품절대체찬계란찜제공드립니다.   \n",
      "1809  926901141  comment  Kitchen B1             품절대체찬들깨무나물제공해드립니다.   \n",
      "\n",
      "                time   hour  \n",
      "141      2023년 7월 7일    NaN  \n",
      "198     2023년 7월 26일    NaN  \n",
      "232      2023년 8월 4일    NaN  \n",
      "233      2023년 8월 4일    NaN  \n",
      "252     2023년 8월 14일    NaN  \n",
      "272     2023년 8월 21일    NaN  \n",
      "378     2023년 9월 26일    NaN  \n",
      "398    2023년 10월 10일    NaN  \n",
      "697   1월 26일 PM 1:07  13:07  \n",
      "808    3월 5일 PM 1:30  13:30  \n",
      "997   5월 14일 PM 1:27  13:27  \n",
      "1010  5월 20일 PM 1:12  13:12  \n",
      "1797    2023년 4월 11일    NaN  \n",
      "1809    2023년 4월 17일    NaN  \n"
     ]
    }
   ],
   "source": [
    "# [참고] \"품절되|품절로|품절입\"는 안들어가지만, 품절이 들어가는 것중에 놓친 부분이 있는지? \n",
    "# 없음. -> 품절 대체찬 관련 내용임. \n",
    "print(comment_df[(comment_df['body'].str.contains(\"품절\"))&(~comment_df['body'].str.contains(\"품절되|품절로|품절입\"))])"
   ]
  },
  {
   "cell_type": "code",
   "execution_count": 47,
   "id": "bd72d839",
   "metadata": {},
   "outputs": [
    {
     "name": "stderr",
     "output_type": "stream",
     "text": [
      "/Users/user/first_pytorch/lib/python3.7/site-packages/ipykernel_launcher.py:17: SettingWithCopyWarning: \n",
      "A value is trying to be set on a copy of a slice from a DataFrame.\n",
      "Try using .loc[row_indexer,col_indexer] = value instead\n",
      "\n",
      "See the caveats in the documentation: https://pandas.pydata.org/pandas-docs/stable/user_guide/indexing.html#returning-a-view-versus-a-copy\n"
     ]
    }
   ],
   "source": [
    "\n",
    "# 패턴 정의\n",
    "pattern = r\"(1코너|1코스|2코너|2코스)\"\n",
    "\n",
    "# 먼저 나오는 패턴 추출 (동시에 2개가 나오는 경우도 있음. ex. 1코너 품절로, 2코너에 추가찬 제공합니다.)\n",
    "\n",
    "def classify(text):\n",
    "    match = re.search(pattern, text)\n",
    "    if match:\n",
    "        found = match.group(0) # 더 먼저 나오는 것 기준\n",
    "        if found in [\"1코너\", \"1코스\"]:\n",
    "            return 1\n",
    "        elif found in [\"2코너\", \"2코스\"]:\n",
    "            return 2\n",
    "    else:\n",
    "        return None\n",
    "# 데이터프레임에 새로운 열 추가\n",
    "soldout_df['soldout'] = soldout_df['body'].apply(classify)\n",
    "\n"
   ]
  },
  {
   "cell_type": "code",
   "execution_count": 48,
   "id": "c677f266",
   "metadata": {},
   "outputs": [],
   "source": [
    "soldout_df[soldout_df.soldout.isin([1,2])].sort_values(by=['soldout']).to_csv(os.getcwd()+'/data/preproc/main/soldout.csv', sep=',' ,na_rep='NaN',index = False)"
   ]
  },
  {
   "cell_type": "code",
   "execution_count": null,
   "id": "bacd1b73",
   "metadata": {},
   "outputs": [],
   "source": []
  }
 ],
 "metadata": {
  "kernelspec": {
   "display_name": "first_pytorch",
   "language": "python",
   "name": "python3"
  },
  "language_info": {
   "codemirror_mode": {
    "name": "ipython",
    "version": 3
   },
   "file_extension": ".py",
   "mimetype": "text/x-python",
   "name": "python",
   "nbconvert_exporter": "python",
   "pygments_lexer": "ipython3",
   "version": "3.6.13"
  }
 },
 "nbformat": 4,
 "nbformat_minor": 5
}
