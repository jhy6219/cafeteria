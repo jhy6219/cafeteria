{
 "cells": [
  {
   "cell_type": "code",
   "execution_count": 1,
   "id": "fb919fea",
   "metadata": {},
   "outputs": [],
   "source": [
    "import os\n",
    "original_dir = os.getcwd()\n",
    "os.chdir(os.path.dirname(os.path.dirname(os.getcwd())))\n",
    "exec(open('setup/default.py').read())"
   ]
  },
  {
   "cell_type": "code",
   "execution_count": 2,
   "id": "fc85f021-3389-419a-8ebb-37e73607f703",
   "metadata": {},
   "outputs": [],
   "source": [
    "raw_df = pd.read_csv(os.getcwd()+'/data/raw_data.csv')"
   ]
  },
  {
   "cell_type": "markdown",
   "id": "3d211c76",
   "metadata": {},
   "source": [
    "## 식단 \n",
    "### 게시글 기반"
   ]
  },
  {
   "cell_type": "code",
   "execution_count": 3,
   "id": "bf67213c-e601-48f0-b82b-89f8a91bdae4",
   "metadata": {},
   "outputs": [],
   "source": [
    "# 필터링 \n",
    "body_df = raw_df[raw_df.type=='body'].copy()\n",
    "body_df.loc[:, 'body'] = body_df['body'].str.replace(r'\\s+|=', '', regex=True) # body에 \\s(공백 = 줄바꿈, 띄어쓰기, 탭) 모두 (+) 제거 \n",
    "#body_df = body_df[[ \"[COURSE\" in i for i in body_df.body]] # [COURSE 로 시작하는 경우만 남기기 \n",
    "body_df.loc[:, 'body'] = body_df['body'].str.replace(r'Kcal', 'kcal', regex=True) # 칼로리 다르게 표기 된것 정리 "
   ]
  },
  {
   "cell_type": "code",
   "execution_count": 4,
   "id": "545d3808",
   "metadata": {},
   "outputs": [],
   "source": [
    "# 오전/오후를 24시간 형식으로 변환\n",
    "body_df['time'] = body_df['time'].str.replace('오전', 'AM').str.replace('오후', 'PM')\n",
    "\n",
    "# time 열을 time 형식으로 변환\n",
    "body_df['time'] = pd.to_datetime(body_df['time'], format='%Y년 %m월 %d일 %p %I:%M', errors='coerce')\n",
    "\n",
    "# 일(day), 시간 (hour), 요일(day of week) 추출\n",
    "body_df['day'] = body_df['time'].dt.date\n",
    "body_df['hour'] = body_df['time'].dt.strftime('%H:%M') \n",
    "body_df['day_of_week'] = body_df['time'].dt.strftime('%A')\n"
   ]
  },
  {
   "cell_type": "code",
   "execution_count": null,
   "id": "49853d76",
   "metadata": {},
   "outputs": [],
   "source": [
    "# # 스페셜 메뉴인 경우 빼기 \n",
    "# def in_braket (input_string) :\n",
    "#     # 정규 표현식을 사용하여 첫 번째 꺾쇠 안의 텍스트 추출\n",
    "#     pattern = r\"<([^>]+)>\"\n",
    "#     match = re.search(pattern, input_string)\n",
    "#     if match:\n",
    "#         extracted_value = match.group(1)\n",
    "#         cleaned_string = re.sub(pattern, '', input_string, 1)  # 첫 번째 꺾쇠만 제거\n",
    "#     else:\n",
    "#         extracted_value = np.nan \n",
    "#         cleaned_string = input_string\n",
    "#     return extracted_value,cleaned_string"
   ]
  },
  {
   "cell_type": "code",
   "execution_count": 17,
   "id": "0bb077df",
   "metadata": {},
   "outputs": [],
   "source": [
    "# 메뉴가 겹치는 코스가 있는지 보기 위함.\n",
    "def jaccard_similarity(s1, s2, n=2):\n",
    "    def ngrams(string, n):\n",
    "        return set([string[i:i+n] for i in range(len(string) - n + 1)])\n",
    "    \n",
    "    ngrams1 = ngrams(s1, n)\n",
    "    ngrams2 = ngrams(s2, n)\n",
    "    \n",
    "    intersection = ngrams1.intersection(ngrams2)\n",
    "    union = ngrams1.union(ngrams2)\n",
    "    \n",
    "    return len(intersection) / len(union)"
   ]
  },
  {
   "cell_type": "code",
   "execution_count": 22,
   "id": "0c9a3b03-c8d7-4319-9b08-a5c47913146e",
   "metadata": {},
   "outputs": [],
   "source": [
    "# 코스 별 특성\n",
    "def extract_course_info(text):\n",
    "    # . : 모든 단일 문자와 일치\n",
    "    # * : 앞의 문자가 0번 이상 반복\n",
    "    # ? : 비탐욕적(가능한 한 적은 문자를) 일치 (? 이 있으면 가장 먼저 나온 kcal에서 끊어주기)\n",
    "    # () : 일치된 부분을 캡처하는 그룹 생성\n",
    "    course_pattern = r'\\[(COURSE([\\d&/,/]+))\\]\\s*(.*?)\\s*(\\d*)kcal\\(단백질:(\\d*)g\\)Na함량:(\\d*)mg'\n",
    "    matches = re.findall(course_pattern, text, re.DOTALL)\n",
    "    \n",
    "    data = []\n",
    "    #print (matches)\n",
    "    for match in matches:\n",
    "        course_full = match[0]  # [COURSE1]\n",
    "        course_numbers = [int(e) for e in re.split('\\D+', match[1]) if e] # [1], [1,2]\n",
    "        course_menu = match[2].strip().replace('\\n', ' ').replace('  ', ' ')\n",
    "        #course_special, course_menu = in_braket(course_menu)\n",
    "        course_kcal = int(match[3]) if match[3] else np.nan\n",
    "        course_protein = int(match[4]) if match[4] else np.nan\n",
    "        course_na = int(match[5]) if match[5] else np.nan\n",
    "\n",
    "        # 기존 코스의 메뉴와 동일한 메뉴의 코스인지?        \n",
    "        found_similar = False\n",
    "        \n",
    "        for existing_course in data:\n",
    "            existing_numbers, existing_menu, existing_kcal, existing_protein, existing_na = existing_course\n",
    "            # 기존 코스에 해당 코스와 동일한 메뉴라면, 기존 데이터에 코스 번호만 추가 \n",
    "            if jaccard_similarity(course_menu, existing_menu) >= 0.9:\n",
    "                existing_numbers.extend(course_numbers)\n",
    "                found_similar = True\n",
    "                break\n",
    "\n",
    "        # 아니라면 데아터 추가 \n",
    "        if not found_similar:\n",
    "            data.append([course_numbers, course_menu, course_kcal, course_protein, course_na])\n",
    "    \n",
    "\n",
    "    return data"
   ]
  },
  {
   "cell_type": "code",
   "execution_count": 23,
   "id": "b4f6b927",
   "metadata": {},
   "outputs": [],
   "source": [
    "# 각 행의 course 리스트를 개별 행으로 확장\n",
    "courses_expanded = body_df.explode('courses')\n",
    "# course가 NA 인 것 제외 (ex.코스요)\n",
    "courses_expanded = courses_expanded[courses_expanded['courses'].notna()] \n",
    "# course 정보 분리\n",
    "course_details = pd.DataFrame(courses_expanded['courses'].tolist(), columns=['course_no', 'course', 'course_kcal', 'course_protein', 'course_na'])#, 'course_special'])\n"
   ]
  },
  {
   "cell_type": "code",
   "execution_count": 26,
   "id": "0511ac0e",
   "metadata": {},
   "outputs": [],
   "source": [
    "# 원래의 데이터프레임과 course_details 병합\n",
    "courses_df = pd.concat([courses_expanded.drop(columns=['courses']).reset_index(drop=True), course_details.reset_index(drop=True)], axis=1)\n",
    "courses_df.to_csv(os.getcwd()+'/data/preproc/main/menu.csv', sep=',' ,na_rep='NaN',index = False)"
   ]
  },
  {
   "cell_type": "markdown",
   "id": "d7fc4f8b",
   "metadata": {},
   "source": [
    "## 품절 여부 \n",
    "### 댓글 기반"
   ]
  },
  {
   "cell_type": "code",
   "execution_count": 84,
   "id": "560efdf1",
   "metadata": {},
   "outputs": [],
   "source": [
    "# 관리자가 쓴 댓글만 추출\n",
    "comment_df = raw_df[(raw_df.type=='comment') & \n",
    "                    (raw_df.writer.isin(['Kitchen B1','kitchen B1','B1_Kitchen','원지연','kitchen_B1']))].copy()\n",
    "comment_df.loc[:, 'body'] = comment_df['body'].str.replace(r'\\s+|=', '', regex=True)\n",
    "\n",
    "# 시간 설정\n",
    "# 오전/오후를 24시간 형식으로 변환\n",
    "comment_df.loc[:, 'time'] = comment_df['time'].str.replace('오전', 'AM').str.replace('오후', 'PM')\n",
    "\n",
    "# [참고] comment_df는 날짜 형식이 2가지로 남음. (ex. 2022년 9월 21일, 4월 18일 오후 1:48 )\n",
    "format2 = '%m월 %d일 %p %I:%M'\n",
    "comment_df.loc[:, 'time2'] = pd.to_datetime(comment_df['time'], format=format2, errors='coerce')\n",
    "# time 열을 time 형식으로 변환\n",
    "comment_df.loc[:, 'time2']= pd.to_datetime(comment_df['time2'], format='%Y년 %m월 %d일 %p %I:%M', errors='coerce')\n",
    "# 일(day), 시간 (hour), 요일(day of week) 추출\n",
    "comment_df.loc[:, 'hour'] = comment_df['time2'].dt.strftime('%H:%M') \n",
    "# 불필요한 열 제거\n",
    "comment_df.drop(columns=['time2'], inplace=True)\n"
   ]
  },
  {
   "cell_type": "code",
   "execution_count": 85,
   "id": "933bfdaa",
   "metadata": {},
   "outputs": [],
   "source": [
    "soldout_df= comment_df[comment_df['body'].str.contains(\"품절되|품절로|품절입\")] # 품절되었습니다, 품절로, 품절입니다"
   ]
  },
  {
   "cell_type": "code",
   "execution_count": 86,
   "id": "e010fb21",
   "metadata": {},
   "outputs": [
    {
     "name": "stdout",
     "output_type": "stream",
     "text": [
      "        post_no     type      writer                           body  \\\n",
      "141   926901281  comment  Kitchen B1          2코너품절대체찬두부쑥갓나물이제공됩니다.   \n",
      "198   926901318  comment  Kitchen B1       1코너품절대체찬으로2코너에콩자반이제공됩니다.   \n",
      "232   926901334  comment  Kitchen B1  중식1코너품절대체찬으로2코너에서반반콩자반제공드립니다.   \n",
      "233   926901334  comment  Kitchen B1     2코너품절대체찬반반콩자반->군만두로제공드립니다.   \n",
      "252   926901350  comment  Kitchen B1  중식2코너품절대체찬으로1코너에서김자반볶음이제공됩니다.   \n",
      "272   926901363  comment  Kitchen B1    1코너품절대체찬으로2코너에서쥐어채조림이제공됩니다.   \n",
      "378   926901435  comment  Kitchen B1      1코너품절대체찬으로2코너에서부꾸미가제공됩니다.   \n",
      "398   926901445  comment  Kitchen B1    2코너품절대체찬으로1코너에서감자샐러드가제공됩니다.   \n",
      "697   926901641  comment  Kitchen B1     품절추가찬으로1코너에서감자샐러드를제공해드립니다.   \n",
      "808   926901705  comment  Kitchen B1   중식1코너품절찬으로2코스에서동그랑땡조림이제공됩니다.   \n",
      "997   926901833  comment  Kitchen B1          1코너품절찬으로순두부샐러드가제공됩니다.   \n",
      "1010  926901843  comment  Kitchen B1     1코너품절찬으로2코너에서고구마샐러드가제공됩니다.   \n",
      "1797  926901130  comment  Kitchen B1                품절대체찬계란찜제공드립니다.   \n",
      "1809  926901141  comment  Kitchen B1             품절대체찬들깨무나물제공해드립니다.   \n",
      "\n",
      "                time   hour  \n",
      "141      2023년 7월 7일    NaN  \n",
      "198     2023년 7월 26일    NaN  \n",
      "232      2023년 8월 4일    NaN  \n",
      "233      2023년 8월 4일    NaN  \n",
      "252     2023년 8월 14일    NaN  \n",
      "272     2023년 8월 21일    NaN  \n",
      "378     2023년 9월 26일    NaN  \n",
      "398    2023년 10월 10일    NaN  \n",
      "697   1월 26일 PM 1:07  13:07  \n",
      "808    3월 5일 PM 1:30  13:30  \n",
      "997   5월 14일 PM 1:27  13:27  \n",
      "1010  5월 20일 PM 1:12  13:12  \n",
      "1797    2023년 4월 11일    NaN  \n",
      "1809    2023년 4월 17일    NaN  \n"
     ]
    }
   ],
   "source": [
    "# [참고] \"품절되|품절로|품절입\"는 안들어가지만, 품절이 들어가는 것중에 놓친 부분이 있는지? \n",
    "# 없음. -> 품절 대체찬 관련 내용임. \n",
    "print(comment_df[(comment_df['body'].str.contains(\"품절\"))&(~comment_df['body'].str.contains(\"품절되|품절로|품절입\"))])"
   ]
  },
  {
   "cell_type": "code",
   "execution_count": 95,
   "id": "ac811615",
   "metadata": {},
   "outputs": [
    {
     "name": "stderr",
     "output_type": "stream",
     "text": [
      "/Users/user/first_pytorch/lib/python3.7/site-packages/ipykernel_launcher.py:16: SettingWithCopyWarning: \n",
      "A value is trying to be set on a copy of a slice from a DataFrame.\n",
      "Try using .loc[row_indexer,col_indexer] = value instead\n",
      "\n",
      "See the caveats in the documentation: https://pandas.pydata.org/pandas-docs/stable/user_guide/indexing.html#returning-a-view-versus-a-copy\n",
      "  app.launch_new_instance()\n"
     ]
    }
   ],
   "source": [
    "def extract_numbers(text):\n",
    "    # 품절 앞에 있는 숫자만 추출하기 위해 패턴 정의\n",
    "    match = re.search(r'(.*)품절', text)\n",
    "    if match:\n",
    "        # 품절 앞의 텍스트에서 숫자 추출\n",
    "        pattern = r'([,\\d\\\\/\\\\&]+)\\s*(?:코스|코너)'\n",
    "        match2 = re.search(pattern, match.group(1))\n",
    "        \n",
    "        if match2:\n",
    "            return [int(e) for e in re.split('\\D+', match2.group(1)) if e]\n",
    "        else:\n",
    "            return None        \n",
    "\n",
    "\n",
    "# 데이터프레임에 새로운 열 추가\n",
    "soldout_df['soldout'] = soldout_df['body'].apply(extract_numbers)"
   ]
  },
  {
   "cell_type": "code",
   "execution_count": 27,
   "id": "bd72d839",
   "metadata": {},
   "outputs": [
    {
     "name": "stderr",
     "output_type": "stream",
     "text": [
      "/Users/user/first_pytorch/lib/python3.7/site-packages/ipykernel_launcher.py:17: SettingWithCopyWarning: \n",
      "A value is trying to be set on a copy of a slice from a DataFrame.\n",
      "Try using .loc[row_indexer,col_indexer] = value instead\n",
      "\n",
      "See the caveats in the documentation: https://pandas.pydata.org/pandas-docs/stable/user_guide/indexing.html#returning-a-view-versus-a-copy\n"
     ]
    }
   ],
   "source": [
    "# 아래 코드는 재사용이 어려워서 fade out\n",
    "# # 패턴 정의\n",
    "# pattern = r\"(1코너|1코스|2코너|2코스)\"\n",
    "\n",
    "# # 먼저 나오는 패턴 추출 (동시에 2개가 나오는 경우도 있음. ex. 1코너 품절로, 2코너에 추가찬 제공합니다.)\n",
    "\n",
    "# def classify(text):\n",
    "#     match = re.search(pattern, text)\n",
    "#     if match:\n",
    "#         found = match.group(0) # 더 먼저 나오는 것 기준\n",
    "#         if found in [\"1코너\", \"1코스\"]:\n",
    "#             return 1\n",
    "#         elif found in [\"2코너\", \"2코스\"]:\n",
    "#             return 2\n",
    "#     else:\n",
    "#         return None\n",
    "# # 데이터프레임에 새로운 열 추가\n",
    "# soldout_df['soldout'] = soldout_df['body'].apply(classify)\n"
   ]
  },
  {
   "cell_type": "code",
   "execution_count": 97,
   "id": "c677f266",
   "metadata": {},
   "outputs": [],
   "source": [
    "soldout_df.sort_values(by=['soldout']).to_csv(os.getcwd()+'/data/preproc/main/soldout.csv', sep=',' ,na_rep='NaN',index = False)"
   ]
  },
  {
   "cell_type": "code",
   "execution_count": null,
   "id": "4a85cb26",
   "metadata": {},
   "outputs": [],
   "source": []
  }
 ],
 "metadata": {
  "kernelspec": {
   "display_name": "first_pytorch",
   "language": "python",
   "name": "python3"
  },
  "language_info": {
   "codemirror_mode": {
    "name": "ipython",
    "version": 3
   },
   "file_extension": ".py",
   "mimetype": "text/x-python",
   "name": "python",
   "nbconvert_exporter": "python",
   "pygments_lexer": "ipython3",
   "version": "3.7.3"
  }
 },
 "nbformat": 4,
 "nbformat_minor": 5
}
