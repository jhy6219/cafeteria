{
 "cells": [
  {
   "cell_type": "code",
   "execution_count": 1,
   "metadata": {},
   "outputs": [],
   "source": [
    "import os\n",
    "original_dir = os.getcwd()\n",
    "os.chdir(os.path.dirname(os.path.dirname(os.getcwd())))\n",
    "exec(open('setup/default.py').read())"
   ]
  },
  {
   "cell_type": "code",
   "execution_count": 2,
   "metadata": {},
   "outputs": [],
   "source": [
    "menu_w_sold_out = pd.read_csv(os.getcwd()+'/data/preproc/main/menu_w_soldout.csv')"
   ]
  },
  {
   "cell_type": "code",
   "execution_count": 3,
   "metadata": {},
   "outputs": [
    {
     "name": "stdout",
     "output_type": "stream",
     "text": [
      "  day_of_week  tot_day  soldout_day     ratio\n",
      "3     Tuesday       94           60  0.638298\n",
      "0      Friday       95           59  0.621053\n",
      "2    Thursday       89           52  0.584270\n",
      "1      Monday       86           48  0.558140\n",
      "4   Wednesday       96           48  0.500000\n",
      "  day_of_week  tot_day  soldout_day     ratio\n",
      "3     Tuesday       94           53  0.563830\n",
      "1      Monday       85           45  0.529412\n",
      "2    Thursday       97           47  0.484536\n",
      "4   Wednesday       95           46  0.484211\n",
      "0      Friday       96            0  0.000000\n"
     ]
    }
   ],
   "source": [
    "# 요일\n",
    "target_meal = 'lunch'\n",
    "summary_df= menu_w_sold_out[menu_w_sold_out.meal_time == target_meal].groupby('day_of_week').agg(\n",
    "    tot_day=('day', lambda x: x.nunique()),    # 고유한 date 개수 계산하여 n에 저장\n",
    "    soldout_day=('day', lambda x: x[menu_w_sold_out.is_soldout==True].nunique())  # is_na=True 조건을 만족하는 고유한 date 개수 계산하여 n2에 저장\n",
    ").reset_index()\n",
    "\n",
    "summary_df['ratio'] = summary_df['soldout_day'] / summary_df['tot_day']  # n2/n 비율 계산\n",
    "print(summary_df.sort_values(by='ratio',ascending=False))\n",
    "\n",
    "target_meal = 'dinner'\n",
    "summary_df= menu_w_sold_out[menu_w_sold_out.meal_time == target_meal].groupby('day_of_week').agg(\n",
    "    tot_day=('day', lambda x: x.nunique()),    # 고유한 date 개수 계산하여 n에 저장\n",
    "    soldout_day=('day', lambda x: x[menu_w_sold_out.is_soldout==True].nunique())  # is_na=True 조건을 만족하는 고유한 date 개수 계산하여 n2에 저장\n",
    ").reset_index()\n",
    "\n",
    "summary_df['ratio'] = summary_df['soldout_day'] / summary_df['tot_day']  # n2/n 비율 계산\n",
    "print(summary_df.sort_values(by='ratio',ascending=False))"
   ]
  },
  {
   "cell_type": "code",
   "execution_count": 10,
   "metadata": {},
   "outputs": [
    {
     "name": "stdout",
     "output_type": "stream",
     "text": [
      "         ym  tot_day  soldout_day     ratio\n",
      "0   2022-06        3            0  0.000000\n",
      "1   2022-07       21            8  0.380952\n",
      "2   2022-08       22            6  0.272727\n",
      "3   2022-09       19           11  0.578947\n",
      "4   2022-10       19           16  0.842105\n",
      "5   2022-11       22           17  0.772727\n",
      "6   2022-12       21           16  0.761905\n",
      "7   2023-01       19           15  0.789474\n",
      "8   2023-02       19            7  0.368421\n",
      "9   2023-03       21           15  0.714286\n",
      "10  2023-04       19           12  0.631579\n",
      "11  2023-05       19           10  0.526316\n",
      "12  2023-06       20            7  0.350000\n",
      "13  2023-07       20           15  0.750000\n",
      "14  2023-08       22           13  0.590909\n",
      "15  2023-09       18           12  0.666667\n",
      "16  2023-10       16            8  0.500000\n",
      "17  2023-11       21           11  0.523810\n",
      "18  2023-12       19           14  0.736842\n",
      "19  2024-01       20           14  0.700000\n",
      "20  2024-02       19           10  0.526316\n",
      "21  2024-03       20           10  0.500000\n",
      "22  2024-04       21            9  0.428571\n",
      "23  2024-05       20           11  0.550000\n",
      "         ym  tot_day  soldout_day     ratio\n",
      "0   2022-06        3            0  0.000000\n",
      "1   2022-07       21            3  0.142857\n",
      "2   2022-08       22            1  0.045455\n",
      "3   2022-09       18            2  0.111111\n",
      "4   2022-10       18            4  0.222222\n",
      "5   2022-11       22            7  0.318182\n",
      "6   2022-12       21            9  0.428571\n",
      "7   2023-01       20           12  0.600000\n",
      "8   2023-02       20            5  0.250000\n",
      "9   2023-03       22            9  0.409091\n",
      "10  2023-04       20            9  0.450000\n",
      "11  2023-05       18            5  0.277778\n",
      "12  2023-06       20            7  0.350000\n",
      "13  2023-07       21           10  0.476190\n",
      "14  2023-08       21           11  0.523810\n",
      "15  2023-09       18            9  0.500000\n",
      "16  2023-10       18           10  0.555556\n",
      "17  2023-11       22            9  0.409091\n",
      "18  2023-12       20           12  0.600000\n",
      "19  2024-01       22           12  0.545455\n",
      "20  2024-02       19           12  0.631579\n",
      "21  2024-03       20           10  0.500000\n",
      "22  2024-04       21           11  0.523810\n",
      "23  2024-05       20           12  0.600000\n"
     ]
    }
   ],
   "source": [
    "# 월\n",
    "menu_w_sold_out['ym'] = menu_w_sold_out['day'].astype(str).str.slice(0, 7)\n",
    "target_meal = 'lunch'\n",
    "summary_df= menu_w_sold_out[menu_w_sold_out.meal_time == target_meal].groupby('ym').agg(\n",
    "    tot_day=('day', lambda x: x.nunique()),    # 고유한 date 개수 계산하여 n에 저장\n",
    "    soldout_day=('day', lambda x: x[menu_w_sold_out.is_soldout==True].nunique())  # is_na=True 조건을 만족하는 고유한 date 개수 계산하여 n2에 저장\n",
    ").reset_index()\n",
    "\n",
    "summary_df['ratio'] = summary_df['soldout_day'] / summary_df['tot_day']  # n2/n 비율 계산\n",
    "print(summary_df.sort_values(by='ym'))\n",
    "\n",
    "target_meal = 'dinner'\n",
    "summary_df= menu_w_sold_out[menu_w_sold_out.meal_time == target_meal].groupby('ym').agg(\n",
    "    tot_day=('day', lambda x: x.nunique()),    # 고유한 date 개수 계산하여 n에 저장\n",
    "    soldout_day=('day', lambda x: x[menu_w_sold_out.is_soldout==True].nunique())  # is_na=True 조건을 만족하는 고유한 date 개수 계산하여 n2에 저장\n",
    ").reset_index()\n",
    "\n",
    "summary_df['ratio'] = summary_df['soldout_day'] / summary_df['tot_day']  # n2/n 비율 계산\n",
    "print(summary_df.sort_values(by='ym'))"
   ]
  },
  {
   "cell_type": "code",
   "execution_count": 12,
   "metadata": {},
   "outputs": [
    {
     "name": "stdout",
     "output_type": "stream",
     "text": [
      "  course_no  tot_day  soldout_day     ratio\n",
      "0    [1, 2]       24            0  0.000000\n",
      "1       [1]      436          165  0.378440\n",
      "2       [2]      427          103  0.241218\n",
      "  course_no  tot_day  soldout_day     ratio\n",
      "0    [1, 2]        4            0  0.000000\n",
      "1       [1]      463           91  0.196544\n",
      "2       [2]      357          100  0.280112\n"
     ]
    }
   ],
   "source": [
    "# 코스\n",
    "target_meal = 'lunch'\n",
    "summary_df= menu_w_sold_out[menu_w_sold_out.meal_time == target_meal].groupby('course_no').agg(\n",
    "    tot_day=('day', lambda x: x.nunique()),    # 고유한 date 개수 계산하여 n에 저장\n",
    "    soldout_day=('day', lambda x: x[menu_w_sold_out.is_soldout==True].nunique())  # is_na=True 조건을 만족하는 고유한 date 개수 계산하여 n2에 저장\n",
    ").reset_index()\n",
    "\n",
    "summary_df['ratio'] = summary_df['soldout_day'] / summary_df['tot_day']  # n2/n 비율 계산\n",
    "print(summary_df.sort_values(by='course_no'))\n",
    "\n",
    "target_meal = 'dinner'\n",
    "summary_df= menu_w_sold_out[menu_w_sold_out.meal_time == target_meal].groupby('course_no').agg(\n",
    "    tot_day=('day', lambda x: x.nunique()),    # 고유한 date 개수 계산하여 n에 저장\n",
    "    soldout_day=('day', lambda x: x[menu_w_sold_out.is_soldout==True].nunique())  # is_na=True 조건을 만족하는 고유한 date 개수 계산하여 n2에 저장\n",
    ").reset_index()\n",
    "\n",
    "summary_df['ratio'] = summary_df['soldout_day'] / summary_df['tot_day']  # n2/n 비율 계산\n",
    "print(summary_df.sort_values(by='course_no'))"
   ]
  }
 ],
 "metadata": {
  "kernelspec": {
   "display_name": "first_pytorch",
   "language": "python",
   "name": "python3"
  },
  "language_info": {
   "codemirror_mode": {
    "name": "ipython",
    "version": 3
   },
   "file_extension": ".py",
   "mimetype": "text/x-python",
   "name": "python",
   "nbconvert_exporter": "python",
   "pygments_lexer": "ipython3",
   "version": "3.6.13"
  }
 },
 "nbformat": 4,
 "nbformat_minor": 2
}
