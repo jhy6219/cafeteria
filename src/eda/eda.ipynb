{
 "cells": [
  {
   "cell_type": "code",
   "execution_count": 1,
   "metadata": {},
   "outputs": [],
   "source": [
    "import os\n",
    "original_dir = os.getcwd()\n",
    "os.chdir(os.path.dirname(os.path.dirname(os.getcwd())))\n",
    "exec(open('setup/default.py').read())"
   ]
  },
  {
   "cell_type": "code",
   "execution_count": 17,
   "metadata": {},
   "outputs": [],
   "source": [
    "menu_df = pd.read_csv(os.getcwd()+'/data/preproc/main/menu.csv').drop(columns=['type','writer','body','time','hour'])\n",
    "sold_out_df = pd.read_csv(os.getcwd()+'/data/preproc/main/soldout.csv').drop(columns=['type','writer','time','body'])\n",
    "sold_out_df .rename(columns={'hour': 'soldout_time'}, inplace=True)\n"
   ]
  },
  {
   "cell_type": "code",
   "execution_count": 18,
   "metadata": {},
   "outputs": [],
   "source": [
    "sold_out_df['soldout'] = sold_out_df['soldout'].apply(ast.literal_eval) # 리스트 타입으로 바꿔주기 \n",
    "sold_out_df  = sold_out_df.explode('soldout')\n",
    "sold_out_df['soldout']  = sold_out_df['soldout'].astype(int)"
   ]
  },
  {
   "cell_type": "code",
   "execution_count": 22,
   "metadata": {},
   "outputs": [
    {
     "name": "stdout",
     "output_type": "stream",
     "text": [
      "     key1 value1  key2 value2\n",
      "0  [1, 2]      a     1      x\n",
      "1  [1, 2]      a     2      y\n",
      "2  [1, 2]      a     1      x\n",
      "3  [1, 2]      a     2      y\n",
      "4     [1]      b     1      x\n",
      "5     [1]      b     2      y\n",
      "6     [2]      c     1      x\n",
      "7     [2]      c     2      y\n"
     ]
    }
   ],
   "source": [
    "import pandas as pd\n",
    "\n",
    "# 예시 데이터프레임 생성\n",
    "df1 = pd.DataFrame({\n",
    "    'key1': [[1, 2], [1], [2]],\n",
    "    'value1': ['a', 'b', 'c']\n",
    "})\n",
    "\n",
    "df2 = pd.DataFrame({\n",
    "    'key2': [1, 2],\n",
    "    'value2': ['x', 'y']\n",
    "})\n",
    "\n",
    "# df1과 df2를 key1과 key2를 기준으로 left 조인\n",
    "# 각 key1 리스트에 대해 key2 값이 포함된 모든 경우를 조인\n",
    "\n",
    "# 빈 리스트를 초기화할 리스트 선언\n",
    "joined_data = []\n",
    "\n",
    "# df1을 순환하면서, key1 리스트 안에 있는 모든 key2와 key2를 매핑\n",
    "for idx, row in df1.iterrows():\n",
    "    for key2 in row['key1']:\n",
    "        for key2 in df2['key2']:\n",
    "            joined_data.append([row['key1'], row['value1'], key2, df2.loc[df2['key2'] == key2, 'value2'].values[0]])\n",
    "\n",
    "# 결과 데이터프레임 생성\n",
    "result_df = pd.DataFrame(joined_data, columns=['key1', 'value1', 'key2', 'value2'])\n",
    "\n",
    "print(result_df)"
   ]
  },
  {
   "cell_type": "code",
   "execution_count": null,
   "metadata": {},
   "outputs": [],
   "source": []
  }
 ],
 "metadata": {
  "kernelspec": {
   "display_name": "first_pytorch",
   "language": "python",
   "name": "python3"
  },
  "language_info": {
   "codemirror_mode": {
    "name": "ipython",
    "version": 3
   },
   "file_extension": ".py",
   "mimetype": "text/x-python",
   "name": "python",
   "nbconvert_exporter": "python",
   "pygments_lexer": "ipython3",
   "version": "3.7.3"
  }
 },
 "nbformat": 4,
 "nbformat_minor": 2
}
