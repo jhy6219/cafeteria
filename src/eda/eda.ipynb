{
 "cells": [
  {
   "cell_type": "code",
   "execution_count": 1,
   "metadata": {},
   "outputs": [],
   "source": [
    "import os\n",
    "original_dir = os.getcwd()\n",
    "os.chdir(os.path.dirname(os.path.dirname(os.getcwd())))\n",
    "exec(open('setup/default.py').read())"
   ]
  },
  {
   "cell_type": "code",
   "execution_count": 3,
   "metadata": {},
   "outputs": [],
   "source": [
    "menu_w_sold_out = pd.read_csv(os.getcwd()+'/data/preproc/main/menu_w_soldout.csv')"
   ]
  },
  {
   "cell_type": "code",
   "execution_count": 18,
   "metadata": {},
   "outputs": [
    {
     "name": "stdout",
     "output_type": "stream",
     "text": [
      "  day_of_week  tot_day  soldout_day     ratio\n",
      "3     Tuesday       94           60  0.638298\n",
      "0      Friday       95           59  0.621053\n",
      "2    Thursday       89           52  0.584270\n",
      "1      Monday       86           48  0.558140\n",
      "4   Wednesday       96           48  0.500000\n",
      "  day_of_week  tot_day  soldout_day     ratio\n",
      "3     Tuesday       94           53  0.563830\n",
      "1      Monday       85           45  0.529412\n",
      "2    Thursday       97           47  0.484536\n",
      "4   Wednesday       95           46  0.484211\n",
      "0      Friday       96            0  0.000000\n"
     ]
    }
   ],
   "source": [
    "target_meal = 'lunch'\n",
    "summary_df= menu_w_sold_out[menu_w_sold_out.meal_time == target_meal].groupby('day_of_week').agg(\n",
    "    tot_day=('day', lambda x: x.nunique()),    # 고유한 date 개수 계산하여 n에 저장\n",
    "    soldout_day=('day', lambda x: x[menu_w_sold_out.is_soldout==True].nunique())  # is_na=True 조건을 만족하는 고유한 date 개수 계산하여 n2에 저장\n",
    ").reset_index()\n",
    "\n",
    "summary_df['ratio'] = summary_df['soldout_day'] / summary_df['tot_day']  # n2/n 비율 계산\n",
    "print(summary_df.sort_values(by='ratio',ascending=False))\n",
    "\n",
    "target_meal = 'dinner'\n",
    "summary_df= menu_w_sold_out[menu_w_sold_out.meal_time == target_meal].groupby('day_of_week').agg(\n",
    "    tot_day=('day', lambda x: x.nunique()),    # 고유한 date 개수 계산하여 n에 저장\n",
    "    soldout_day=('day', lambda x: x[menu_w_sold_out.is_soldout==True].nunique())  # is_na=True 조건을 만족하는 고유한 date 개수 계산하여 n2에 저장\n",
    ").reset_index()\n",
    "\n",
    "summary_df['ratio'] = summary_df['soldout_day'] / summary_df['tot_day']  # n2/n 비율 계산\n",
    "print(summary_df.sort_values(by='ratio',ascending=False))"
   ]
  },
  {
   "cell_type": "code",
   "execution_count": null,
   "metadata": {},
   "outputs": [],
   "source": []
  }
 ],
 "metadata": {
  "kernelspec": {
   "display_name": "first_pytorch",
   "language": "python",
   "name": "first_pytorch"
  },
  "language_info": {
   "codemirror_mode": {
    "name": "ipython",
    "version": 3
   },
   "file_extension": ".py",
   "mimetype": "text/x-python",
   "name": "python",
   "nbconvert_exporter": "python",
   "pygments_lexer": "ipython3",
   "version": "3.11.7"
  }
 },
 "nbformat": 4,
 "nbformat_minor": 2
}
