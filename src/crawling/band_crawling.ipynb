{
 "cells": [
  {
   "cell_type": "code",
   "execution_count": 1,
   "id": "parallel-arbor",
   "metadata": {},
   "outputs": [
    {
     "name": "stderr",
     "output_type": "stream",
     "text": [
      "/Users/user/first_pytorch/lib/python3.7/site-packages/urllib3/__init__.py:38: NotOpenSSLWarning: urllib3 v2.0 only supports OpenSSL 1.1.1+, currently the 'ssl' module is compiled with 'LibreSSL 2.8.3'. See: https://github.com/urllib3/urllib3/issues/3020\n",
      "  exceptions.NotOpenSSLWarning,\n"
     ]
    }
   ],
   "source": [
    "from selenium import webdriver\n",
    "from selenium.webdriver.chrome.options import Options # 브라우저 옵션 설정 (ex. headless 모드)\n",
    "from selenium.webdriver.chrome.service import Service # 브라우저 실행 서비스 설정 모듈 \n",
    "from selenium.webdriver.common.by import By # WebDriver에서 요소를 찾는 데 사용되는 방법을 지정\n",
    "from selenium.webdriver.common.keys import Keys # 특수 키(예: Enter, Shift 등)를 보냄\n",
    "from selenium.common.exceptions import NoSuchElementException, UnexpectedAlertPresentException #  NoSuchElement(특정 요소가 없는 경우),UnexpectedAlert(브라우저 경고 ex. 삭제된 페이지 입니다.) \n",
    "\n",
    "\n",
    "from os import rename, listdir\n",
    "from datetime import datetime \n",
    "import time\n",
    "import csv\n",
    "import re\n",
    "import pandas as pd\n",
    "from tqdm import tqdm"
   ]
  },
  {
   "cell_type": "code",
   "execution_count": 2,
   "id": "greenhouse-wells",
   "metadata": {},
   "outputs": [],
   "source": [
    "chrome_driver = '/Users/user/Desktop/haeyoon_private/cafeteria/chromedriver-mac-x64/chromedriver'"
   ]
  },
  {
   "cell_type": "code",
   "execution_count": 3,
   "id": "tamil-bronze",
   "metadata": {},
   "outputs": [],
   "source": [
    "# ChromeDriver 서비스 객체 생성\n",
    "service = Service(chrome_driver)\n",
    "\n",
    "# Chrome 옵션 설정\n",
    "options = webdriver.ChromeOptions()\n",
    "#options.add_argument('--headless')  # headless 모드 사용 (브라우져창 열지 않음.)\n",
    "\n",
    "# 웹 드라이버 초기화\n",
    "driver = webdriver.Chrome(service=service, options=options)\n",
    "driver.get(\"https://auth.band.us/login_page\") # 해당 링크 오픈 \n",
    "driver.implicitly_wait(3) # 요소 노출 까지 3초 대기\n"
   ]
  },
  {
   "cell_type": "code",
   "execution_count": 4,
   "id": "immediate-aberdeen",
   "metadata": {},
   "outputs": [],
   "source": [
    "fin_df = pd.DataFrame()\n",
    "post_no_list = range(926901171,926901865)"
   ]
  },
  {
   "cell_type": "code",
   "execution_count": 4,
   "id": "64b522d2",
   "metadata": {},
   "outputs": [],
   "source": [
    "fin_df = pd.read_csv('/Users/user/Desktop/haeyoon_private/cafeteria/data/raw_data.csv', sep=',', error_bad_lines=False, index_col=False, dtype='unicode')\n",
    "post_no_list = range(926900590,926901170)"
   ]
  },
  {
   "cell_type": "code",
   "execution_count": 5,
   "id": "included-humor",
   "metadata": {},
   "outputs": [
    {
     "name": "stderr",
     "output_type": "stream",
     "text": [
      "100%|██████████| 580/580 [23:26<00:00,  2.42s/it]\n"
     ]
    }
   ],
   "source": [
    "for post_no in tqdm(post_no_list) :\n",
    "    driver.get(\"https://band.us/band/47113445/post/\"+str(post_no))\n",
    "    time.sleep(1)\n",
    "    try:\n",
    "        # 포스트\n",
    "        post_body = \"\"\n",
    "        post_body = driver.find_element(By.CSS_SELECTOR, 'div.txtBody').text # 포스트 내용\n",
    "        if 'course' in post_body.lower(): # course라는 단어가 들어있는 글이 메뉴 관련 글임. \n",
    "            post_writer = driver.find_element(By.CSS_SELECTOR, 'a.text').text # 포스트 작성자\n",
    "            post_write_time= driver.find_element(By.CSS_SELECTOR, 'time.time').text # 작성 시간 (포스트, 댓글) \n",
    "\n",
    "            df = pd.DataFrame(\n",
    "                        data = {\n",
    "                            'post_no' : [post_no],\n",
    "                            'type' : ['body'],\n",
    "                            'writer' : [post_writer],\n",
    "                            'body': [post_body],\n",
    "                            'time' : [post_write_time]\n",
    "                        }\n",
    "                    )\n",
    "            fin_df = pd.concat([\n",
    "                                fin_df,\n",
    "                                df\n",
    "                            ])\n",
    "            # 댓글\n",
    "            item_wrap_elements = driver.find_elements(By.CSS_SELECTOR, 'div.itemWrap')\n",
    "            for item in item_wrap_elements:\n",
    "                try: \n",
    "                    comment_body = item.find_element(By.CSS_SELECTOR, 'p.txt._commentContent').text\n",
    "                except (NoSuchElementException, UnexpectedAlertPresentException):\n",
    "                    comment_body = ''\n",
    "                    \n",
    "                df = pd.DataFrame(\n",
    "                            data = {\n",
    "                                'post_no' : [post_no],\n",
    "                                'type' : 'comment',\n",
    "                                'writer' : [item.find_element(By.CSS_SELECTOR, 'strong.name').text],\n",
    "                                'body': [comment_body],\n",
    "                                'time' : [item.find_element(By.CSS_SELECTOR, 'time.time').text]\n",
    "                            }\n",
    "                        )\n",
    "\n",
    "                fin_df = pd.concat([\n",
    "                                    fin_df,\n",
    "                                    df\n",
    "                                ])\n",
    "\n",
    "            fin_df.to_csv('/Users/user/Desktop/haeyoon_private/cafeteria/data/raw_data.csv', sep=',' ,na_rep='NaN',index = False)\n",
    "\n",
    "        \n",
    "    except (NoSuchElementException,UnexpectedAlertPresentException):\n",
    "            # 에러 발생 시 무시하고 다음 루프로 넘어감\n",
    "            continue"
   ]
  },
  {
   "cell_type": "code",
   "execution_count": null,
   "id": "systematic-toilet",
   "metadata": {},
   "outputs": [],
   "source": []
  },
  {
   "cell_type": "code",
   "execution_count": null,
   "id": "personal-audio",
   "metadata": {},
   "outputs": [],
   "source": []
  },
  {
   "cell_type": "code",
   "execution_count": null,
   "id": "middle-sunrise",
   "metadata": {},
   "outputs": [],
   "source": []
  }
 ],
 "metadata": {
  "kernelspec": {
   "display_name": "first_pytorch",
   "language": "python",
   "name": "python3"
  },
  "language_info": {
   "codemirror_mode": {
    "name": "ipython",
    "version": 3
   },
   "file_extension": ".py",
   "mimetype": "text/x-python",
   "name": "python",
   "nbconvert_exporter": "python",
   "pygments_lexer": "ipython3",
   "version": "3.7.3"
  }
 },
 "nbformat": 4,
 "nbformat_minor": 5
}
