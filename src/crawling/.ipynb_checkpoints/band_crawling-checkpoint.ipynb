{
 "cells": [
  {
   "cell_type": "markdown",
   "id": "gothic-sodium",
   "metadata": {},
   "source": [
    "참고 코드 : https://kjk92.tistory.com/90 \n",
    "\n",
    "sudo pip3 install selenium -- 터미널에서! \n"
   ]
  },
  {
   "cell_type": "code",
   "execution_count": 2,
   "id": "robust-selling",
   "metadata": {},
   "outputs": [],
   "source": [
    "from selenium import webdriver\n",
    "from selenium.webdriver.chrome.options import Options\n",
    "from selenium.webdriver.common.by import By\n",
    "from selenium.webdriver.support.ui import WebDriverWait\n",
    "from selenium.webdriver.support import expected_conditions as EC\n",
    "from selenium.common.exceptions import NoSuchElementException\n",
    "\n",
    "from os import rename, listdir\n",
    "\n",
    "from datetime import datetime \n",
    "import time\n",
    "\n",
    "import csv\n",
    "import re"
   ]
  },
  {
   "cell_type": "code",
   "execution_count": 4,
   "id": "283c934d-d533-49e4-9d62-ada9ef5de85d",
   "metadata": {},
   "outputs": [
    {
     "name": "stdout",
     "output_type": "stream",
     "text": [
      "/Users/user/Desktop/haeyoon_private/cafeteria/src/crawling\n"
     ]
    }
   ],
   "source": [
    "!pwd"
   ]
  },
  {
   "cell_type": "code",
   "execution_count": 5,
   "id": "hundred-commercial",
   "metadata": {},
   "outputs": [
    {
     "name": "stdout",
     "output_type": "stream",
     "text": [
      "Page title: Python web scraping - Google 검색\n",
      "First result title: python으로 web scraping\n",
      "New page title: python으로 web scraping\n"
     ]
    }
   ],
   "source": [
    "from selenium import webdriver  # 웹 드라이버를 사용하기 위해 selenium 모듈을 임포트\n",
    "from selenium.webdriver.chrome.service import Service  # ChromeDriver 서비스 객체를 생성하기 위해 Service 모듈을 임포트\n",
    "from selenium.webdriver.common.by import By  # 요소를 찾기 위해 사용할 By 클래스 임포트\n",
    "from selenium.webdriver.common.keys import Keys  # 키보드 키 입력을 위해 Keys 클래스 임포트\n",
    "\n",
    "# ChromeDriver 경로 설정\n",
    "#chrome_driver_path = '/Users/user/Desktop/haeyoon_private/cafeteria_analysis/chromedriver-mac-x64/chromedriver'\n",
    "chrome_driver_path = '/Users/user/Desktop/haeyoon_private/cafeteria/chromedriver-mac-x64/chromedriver'\n",
    "\n",
    "# ChromeDriver 서비스 객체 생성\n",
    "service = Service(chrome_driver_path)\n",
    "\n",
    "# Chrome 옵션 설정\n",
    "options = webdriver.ChromeOptions()\n",
    "# options.add_argument('--headless')  # headless 모드 사용 (브라우저 창을 열지 않음) - 이 줄을 주석 처리하거나 제거합니다.\n",
    "\n",
    "# 웹 드라이버 초기화\n",
    "driver = webdriver.Chrome(service=service, options=options)\n",
    "\n",
    "try:\n",
    "    # Google 홈페이지 열기\n",
    "    driver.get('https://www.google.com')\n",
    "\n",
    "    # 검색 창 찾기\n",
    "    search_box = driver.find_element(By.NAME, 'q')\n",
    "\n",
    "    # 검색어 입력 및 엔터 키 누르기\n",
    "    search_box.send_keys('Python web scraping')\n",
    "    search_box.send_keys(Keys.RETURN)\n",
    "\n",
    "    # 페이지 제목 출력\n",
    "    print(\"Page title:\", driver.title)\n",
    "\n",
    "    # 첫 번째 검색 결과의 링크 텍스트 출력 (예시)\n",
    "    first_result = driver.find_element(By.CSS_SELECTOR, 'h3')\n",
    "    print(\"First result title:\", first_result.text)\n",
    "\n",
    "    # 첫 번째 검색 결과 클릭 (예시)\n",
    "    first_result.click()\n",
    "\n",
    "    # 새로운 페이지의 제목 출력\n",
    "    print(\"New page title:\", driver.title)\n",
    "\n",
    "finally:\n",
    "    # 드라이버 종료\n",
    "    driver.quit()"
   ]
  },
  {
   "cell_type": "code",
   "execution_count": 9,
   "id": "early-soccer",
   "metadata": {},
   "outputs": [],
   "source": [
    "#chrome_driver = '/Users/user/Desktop/haeyoon_private/cafeteria_analysis/chromedriver-mac-x64/chromedriver'\n",
    "chrome_driver = '/Users/user/Desktop/haeyoon_private/cafeteria/chromedriver-mac-x64/chromedriver'"
   ]
  },
  {
   "cell_type": "code",
   "execution_count": 11,
   "id": "lesser-tobago",
   "metadata": {},
   "outputs": [],
   "source": [
    "from selenium.webdriver.chrome.service import Service\n",
    "from selenium.webdriver.common.by import By\n",
    "from selenium.webdriver.common.keys import Keys\n",
    "\n",
    "# ChromeDriver 서비스 객체 생성\n",
    "service = Service(chrome_driver)\n",
    "\n",
    "# Chrome 옵션 설정\n",
    "options = webdriver.ChromeOptions()\n",
    "#options.add_argument('--headless')  # headless 모드 사용\n",
    "\n",
    "# 웹 드라이버 초기화\n",
    "driver = webdriver.Chrome(service=service, options=options)\n",
    "driver.implicitly_wait(3)\n",
    "\n",
    "driver.get(\"https://auth.band.us/login_page\")\n",
    "\n",
    "time.sleep(1)"
   ]
  },
  {
   "cell_type": "code",
   "execution_count": 17,
   "id": "5e7484c7-e299-4235-9aba-bb4d0f52b0b6",
   "metadata": {},
   "outputs": [
    {
     "data": {
      "text/plain": [
       "'/Users/user/Desktop/haeyoon_private/cafeteria'"
      ]
     },
     "execution_count": 17,
     "metadata": {},
     "output_type": "execute_result"
    }
   ],
   "source": [
    "import os\n",
    "\n",
    "# 현재 디렉토리의 상위 디렉토리 경로\n",
    "parent_dir = os.path.dirname(os.path.dirname(os.getcwd()))\n",
    "parent_dir"
   ]
  },
  {
   "cell_type": "code",
   "execution_count": 20,
   "id": "therapeutic-profession",
   "metadata": {},
   "outputs": [],
   "source": [
    "f = open(os.path.dirname(os.path.dirname(os.getcwd()))+'/data/'+\"write{0}.csv\".format(datetime.now().strftime('%Y-%m-%d_%H%M%S')),'w', newline='')\n",
    "wr = csv.writer(f)"
   ]
  },
  {
   "cell_type": "code",
   "execution_count": 31,
   "id": "ff337798-2bb1-410b-941f-e90fef1b1306",
   "metadata": {},
   "outputs": [],
   "source": [
    "driver.get(\"https://band.us/band/47113445/post/926901845\")\n",
    "time.sleep(1)"
   ]
  },
  {
   "cell_type": "code",
   "execution_count": 32,
   "id": "cb7e800c-7264-425e-a376-8a88b0183cec",
   "metadata": {},
   "outputs": [
    {
     "name": "stdout",
     "output_type": "stream",
     "text": [
      "Page title: 1784 Kitchen B1 | 밴드\n"
     ]
    }
   ],
   "source": [
    "print(\"Page title:\", driver.title)"
   ]
  },
  {
   "cell_type": "code",
   "execution_count": 36,
   "id": "b1185697-fdd5-4007-b77d-6a3dfc090d5a",
   "metadata": {},
   "outputs": [
    {
     "data": {
      "text/plain": [
       "'중식2코스 치즈돈까스대체로 멜팅치즈돈까스가 제공됩니다.'"
      ]
     },
     "execution_count": 36,
     "metadata": {},
     "output_type": "execute_result"
    }
   ],
   "source": [
    "driver.find_element(By.CSS_SELECTOR, 'p.txt._commentContent').text"
   ]
  },
  {
   "cell_type": "code",
   "execution_count": 24,
   "id": "d6f5bc2e-fcc4-4935-a07c-3538d4ef2719",
   "metadata": {},
   "outputs": [
    {
     "ename": "SyntaxError",
     "evalue": "invalid syntax (4246385189.py, line 1)",
     "output_type": "error",
     "traceback": [
      "\u001b[0;36m  Cell \u001b[0;32mIn[24], line 1\u001b[0;36m\u001b[0m\n\u001b[0;31m    https://band.us/band/47113445/post/926901845\u001b[0m\n\u001b[0m          ^\u001b[0m\n\u001b[0;31mSyntaxError\u001b[0m\u001b[0;31m:\u001b[0m invalid syntax\n"
     ]
    }
   ],
   "source": [
    "https://band.us/band/47113445/post/926901845\n",
    "https://band.us/band/47113445/post/926901844\n",
    "https://band.us/band/47113445/post/926901843"
   ]
  },
  {
   "cell_type": "code",
   "execution_count": 8,
   "id": "connected-sword",
   "metadata": {},
   "outputs": [
    {
     "name": "stdout",
     "output_type": "stream",
     "text": [
      "Message: \n",
      "Stacktrace:\n",
      "0   chromedriver                        0x000000010b233a78 chromedriver + 5216888\n",
      "1   chromedriver                        0x000000010b22b6b3 chromedriver + 5183155\n",
      "2   chromedriver                        0x000000010ad9d527 chromedriver + 406823\n",
      "3   chromedriver                        0x000000010ade8ff2 chromedriver + 716786\n",
      "4   chromedriver                        0x000000010ade9181 chromedriver + 717185\n",
      "5   chromedriver                        0x000000010ae2d1d4 chromedriver + 995796\n",
      "6   chromedriver                        0x000000010ae0b72d chromedriver + 857901\n",
      "7   chromedriver                        0x000000010ae2a6bf chromedriver + 984767\n",
      "8   chromedriver                        0x000000010ae0b4a3 chromedriver + 857251\n",
      "9   chromedriver                        0x000000010addbfe3 chromedriver + 663523\n",
      "10  chromedriver                        0x000000010addc92e chromedriver + 665902\n",
      "11  chromedriver                        0x000000010b1f1990 chromedriver + 4946320\n",
      "12  chromedriver                        0x000000010b1f7a44 chromedriver + 4971076\n",
      "13  chromedriver                        0x000000010b1d248e chromedriver + 4818062\n",
      "14  chromedriver                        0x000000010b1f8559 chromedriver + 4973913\n",
      "15  chromedriver                        0x000000010b1c2714 chromedriver + 4753172\n",
      "16  chromedriver                        0x000000010b21ac08 chromedriver + 5114888\n",
      "17  chromedriver                        0x000000010b21adc7 chromedriver + 5115335\n",
      "18  chromedriver                        0x000000010b22b2d3 chromedriver + 5182163\n",
      "19  libsystem_pthread.dylib             0x00007ff814f9c1d3 _pthread_start + 125\n",
      "20  libsystem_pthread.dylib             0x00007ff814f97bd3 thread_start + 15\n",
      "\n",
      "Message: \n",
      "Stacktrace:\n",
      "0   chromedriver                        0x000000010b233a78 chromedriver + 5216888\n",
      "1   chromedriver                        0x000000010b22b6b3 chromedriver + 5183155\n",
      "2   chromedriver                        0x000000010ad9d527 chromedriver + 406823\n",
      "3   chromedriver                        0x000000010ade8ff2 chromedriver + 716786\n",
      "4   chromedriver                        0x000000010ade9181 chromedriver + 717185\n",
      "5   chromedriver                        0x000000010ae2d1d4 chromedriver + 995796\n",
      "6   chromedriver                        0x000000010ae0b72d chromedriver + 857901\n",
      "7   chromedriver                        0x000000010ae2a6bf chromedriver + 984767\n",
      "8   chromedriver                        0x000000010ae0b4a3 chromedriver + 857251\n",
      "9   chromedriver                        0x000000010addbfe3 chromedriver + 663523\n",
      "10  chromedriver                        0x000000010addc92e chromedriver + 665902\n",
      "11  chromedriver                        0x000000010b1f1990 chromedriver + 4946320\n",
      "12  chromedriver                        0x000000010b1f7a44 chromedriver + 4971076\n",
      "13  chromedriver                        0x000000010b1d248e chromedriver + 4818062\n",
      "14  chromedriver                        0x000000010b1f8559 chromedriver + 4973913\n",
      "15  chromedriver                        0x000000010b1c2714 chromedriver + 4753172\n",
      "16  chromedriver                        0x000000010b21ac08 chromedriver + 5114888\n",
      "17  chromedriver                        0x000000010b21adc7 chromedriver + 5115335\n",
      "18  chromedriver                        0x000000010b22b2d3 chromedriver + 5182163\n",
      "19  libsystem_pthread.dylib             0x00007ff814f9c1d3 _pthread_start + 125\n",
      "20  libsystem_pthread.dylib             0x00007ff814f97bd3 thread_start + 15\n",
      "\n"
     ]
    },
    {
     "name": "stderr",
     "output_type": "stream",
     "text": [
      "ERROR:root:Internal Python error in the inspect module.\n",
      "Below is the traceback from this internal error.\n",
      "\n"
     ]
    },
    {
     "name": "stdout",
     "output_type": "stream",
     "text": [
      "Traceback (most recent call last):\n",
      "  File \"/Users/user/first_pytorch/lib/python3.7/site-packages/IPython/core/interactiveshell.py\", line 3418, in run_code\n",
      "    exec(code_obj, self.user_global_ns, self.user_ns)\n",
      "  File \"<ipython-input-8-1aeaf7213e03>\", line 6, in <module>\n",
      "    WebDriverWait(driver, 10).until(EC.presence_of_element_located((By.XPATH, '//*[@id=\"wrap\"]/div[2]/div/div/section/div[2]/div/section/div/div[2]/div/div/a')))\n",
      "  File \"/Users/user/first_pytorch/lib/python3.7/site-packages/selenium/webdriver/support/wait.py\", line 92, in until\n",
      "    time.sleep(self._poll)\n",
      "KeyboardInterrupt\n",
      "\n",
      "During handling of the above exception, another exception occurred:\n",
      "\n",
      "Traceback (most recent call last):\n",
      "  File \"/Users/user/first_pytorch/lib/python3.7/site-packages/IPython/core/interactiveshell.py\", line 2045, in showtraceback\n",
      "    stb = value._render_traceback_()\n",
      "AttributeError: 'KeyboardInterrupt' object has no attribute '_render_traceback_'\n",
      "\n",
      "During handling of the above exception, another exception occurred:\n",
      "\n",
      "Traceback (most recent call last):\n",
      "  File \"/Users/user/first_pytorch/lib/python3.7/site-packages/IPython/core/ultratb.py\", line 1170, in get_records\n",
      "    return _fixed_getinnerframes(etb, number_of_lines_of_context, tb_offset)\n",
      "  File \"/Users/user/first_pytorch/lib/python3.7/site-packages/IPython/core/ultratb.py\", line 316, in wrapped\n",
      "    return f(*args, **kwargs)\n",
      "  File \"/Users/user/first_pytorch/lib/python3.7/site-packages/IPython/core/ultratb.py\", line 350, in _fixed_getinnerframes\n",
      "    records = fix_frame_records_filenames(inspect.getinnerframes(etb, context))\n",
      "  File \"/Applications/Xcode.app/Contents/Developer/Library/Frameworks/Python3.framework/Versions/3.7/lib/python3.7/inspect.py\", line 1502, in getinnerframes\n",
      "    frameinfo = (tb.tb_frame,) + getframeinfo(tb, context)\n",
      "  File \"/Applications/Xcode.app/Contents/Developer/Library/Frameworks/Python3.framework/Versions/3.7/lib/python3.7/inspect.py\", line 1460, in getframeinfo\n",
      "    filename = getsourcefile(frame) or getfile(frame)\n",
      "  File \"/Applications/Xcode.app/Contents/Developer/Library/Frameworks/Python3.framework/Versions/3.7/lib/python3.7/inspect.py\", line 696, in getsourcefile\n",
      "    if getattr(getmodule(object, filename), '__loader__', None) is not None:\n",
      "  File \"/Applications/Xcode.app/Contents/Developer/Library/Frameworks/Python3.framework/Versions/3.7/lib/python3.7/inspect.py\", line 742, in getmodule\n",
      "    os.path.realpath(f)] = module.__name__\n",
      "  File \"/Applications/Xcode.app/Contents/Developer/Library/Frameworks/Python3.framework/Versions/3.7/lib/python3.7/posixpath.py\", line 395, in realpath\n",
      "    path, ok = _joinrealpath(filename[:0], filename, {})\n",
      "  File \"/Applications/Xcode.app/Contents/Developer/Library/Frameworks/Python3.framework/Versions/3.7/lib/python3.7/posixpath.py\", line 429, in _joinrealpath\n",
      "    if not islink(newpath):\n",
      "  File \"/Applications/Xcode.app/Contents/Developer/Library/Frameworks/Python3.framework/Versions/3.7/lib/python3.7/posixpath.py\", line 171, in islink\n",
      "    st = os.lstat(path)\n",
      "KeyboardInterrupt\n"
     ]
    },
    {
     "ename": "TypeError",
     "evalue": "object of type 'NoneType' has no len()",
     "output_type": "error",
     "traceback": [
      "\u001b[0;31m---------------------------------------------------------------------------\u001b[0m",
      "\u001b[0;31mKeyboardInterrupt\u001b[0m                         Traceback (most recent call last)",
      "    \u001b[0;31m[... skipping hidden 1 frame]\u001b[0m\n",
      "\u001b[0;32m<ipython-input-8-1aeaf7213e03>\u001b[0m in \u001b[0;36m<module>\u001b[0;34m\u001b[0m\n\u001b[1;32m      5\u001b[0m         \u001b[0;31m# 대기 시간 추가 (20초)\u001b[0m\u001b[0;34m\u001b[0m\u001b[0;34m\u001b[0m\u001b[0;34m\u001b[0m\u001b[0m\n\u001b[0;32m----> 6\u001b[0;31m         \u001b[0mWebDriverWait\u001b[0m\u001b[0;34m(\u001b[0m\u001b[0mdriver\u001b[0m\u001b[0;34m,\u001b[0m \u001b[0;36m10\u001b[0m\u001b[0;34m)\u001b[0m\u001b[0;34m.\u001b[0m\u001b[0muntil\u001b[0m\u001b[0;34m(\u001b[0m\u001b[0mEC\u001b[0m\u001b[0;34m.\u001b[0m\u001b[0mpresence_of_element_located\u001b[0m\u001b[0;34m(\u001b[0m\u001b[0;34m(\u001b[0m\u001b[0mBy\u001b[0m\u001b[0;34m.\u001b[0m\u001b[0mXPATH\u001b[0m\u001b[0;34m,\u001b[0m \u001b[0;34m'//*[@id=\"wrap\"]/div[2]/div/div/section/div[2]/div/section/div/div[2]/div/div/a'\u001b[0m\u001b[0;34m)\u001b[0m\u001b[0;34m)\u001b[0m\u001b[0;34m)\u001b[0m\u001b[0;34m\u001b[0m\u001b[0;34m\u001b[0m\u001b[0m\n\u001b[0m\u001b[1;32m      7\u001b[0m \u001b[0;34m\u001b[0m\u001b[0m\n",
      "\u001b[0;32m~/first_pytorch/lib/python3.7/site-packages/selenium/webdriver/support/wait.py\u001b[0m in \u001b[0;36muntil\u001b[0;34m(self, method, message)\u001b[0m\n\u001b[1;32m     91\u001b[0m                 \u001b[0mstacktrace\u001b[0m \u001b[0;34m=\u001b[0m \u001b[0mgetattr\u001b[0m\u001b[0;34m(\u001b[0m\u001b[0mexc\u001b[0m\u001b[0;34m,\u001b[0m \u001b[0;34m\"stacktrace\"\u001b[0m\u001b[0;34m,\u001b[0m \u001b[0;32mNone\u001b[0m\u001b[0;34m)\u001b[0m\u001b[0;34m\u001b[0m\u001b[0;34m\u001b[0m\u001b[0m\n\u001b[0;32m---> 92\u001b[0;31m             \u001b[0mtime\u001b[0m\u001b[0;34m.\u001b[0m\u001b[0msleep\u001b[0m\u001b[0;34m(\u001b[0m\u001b[0mself\u001b[0m\u001b[0;34m.\u001b[0m\u001b[0m_poll\u001b[0m\u001b[0;34m)\u001b[0m\u001b[0;34m\u001b[0m\u001b[0;34m\u001b[0m\u001b[0m\n\u001b[0m\u001b[1;32m     93\u001b[0m             \u001b[0;32mif\u001b[0m \u001b[0mtime\u001b[0m\u001b[0;34m.\u001b[0m\u001b[0mmonotonic\u001b[0m\u001b[0;34m(\u001b[0m\u001b[0;34m)\u001b[0m \u001b[0;34m>\u001b[0m \u001b[0mend_time\u001b[0m\u001b[0;34m:\u001b[0m\u001b[0;34m\u001b[0m\u001b[0;34m\u001b[0m\u001b[0m\n",
      "\u001b[0;31mKeyboardInterrupt\u001b[0m: ",
      "\nDuring handling of the above exception, another exception occurred:\n",
      "\u001b[0;31mAttributeError\u001b[0m                            Traceback (most recent call last)",
      "\u001b[0;32m~/first_pytorch/lib/python3.7/site-packages/IPython/core/interactiveshell.py\u001b[0m in \u001b[0;36mshowtraceback\u001b[0;34m(self, exc_tuple, filename, tb_offset, exception_only, running_compiled_code)\u001b[0m\n\u001b[1;32m   2044\u001b[0m                         \u001b[0;31m# in the engines. This should return a list of strings.\u001b[0m\u001b[0;34m\u001b[0m\u001b[0;34m\u001b[0m\u001b[0;34m\u001b[0m\u001b[0m\n\u001b[0;32m-> 2045\u001b[0;31m                         \u001b[0mstb\u001b[0m \u001b[0;34m=\u001b[0m \u001b[0mvalue\u001b[0m\u001b[0;34m.\u001b[0m\u001b[0m_render_traceback_\u001b[0m\u001b[0;34m(\u001b[0m\u001b[0;34m)\u001b[0m\u001b[0;34m\u001b[0m\u001b[0;34m\u001b[0m\u001b[0m\n\u001b[0m\u001b[1;32m   2046\u001b[0m                     \u001b[0;32mexcept\u001b[0m \u001b[0mException\u001b[0m\u001b[0;34m:\u001b[0m\u001b[0;34m\u001b[0m\u001b[0;34m\u001b[0m\u001b[0m\n",
      "\u001b[0;31mAttributeError\u001b[0m: 'KeyboardInterrupt' object has no attribute '_render_traceback_'",
      "\nDuring handling of the above exception, another exception occurred:\n",
      "\u001b[0;31mTypeError\u001b[0m                                 Traceback (most recent call last)",
      "    \u001b[0;31m[... skipping hidden 1 frame]\u001b[0m\n",
      "\u001b[0;32m~/first_pytorch/lib/python3.7/site-packages/IPython/core/interactiveshell.py\u001b[0m in \u001b[0;36mshowtraceback\u001b[0;34m(self, exc_tuple, filename, tb_offset, exception_only, running_compiled_code)\u001b[0m\n\u001b[1;32m   2046\u001b[0m                     \u001b[0;32mexcept\u001b[0m \u001b[0mException\u001b[0m\u001b[0;34m:\u001b[0m\u001b[0;34m\u001b[0m\u001b[0;34m\u001b[0m\u001b[0m\n\u001b[1;32m   2047\u001b[0m                         stb = self.InteractiveTB.structured_traceback(etype,\n\u001b[0;32m-> 2048\u001b[0;31m                                             value, tb, tb_offset=tb_offset)\n\u001b[0m\u001b[1;32m   2049\u001b[0m \u001b[0;34m\u001b[0m\u001b[0m\n\u001b[1;32m   2050\u001b[0m                     \u001b[0mself\u001b[0m\u001b[0;34m.\u001b[0m\u001b[0m_showtraceback\u001b[0m\u001b[0;34m(\u001b[0m\u001b[0metype\u001b[0m\u001b[0;34m,\u001b[0m \u001b[0mvalue\u001b[0m\u001b[0;34m,\u001b[0m \u001b[0mstb\u001b[0m\u001b[0;34m)\u001b[0m\u001b[0;34m\u001b[0m\u001b[0;34m\u001b[0m\u001b[0m\n",
      "\u001b[0;32m~/first_pytorch/lib/python3.7/site-packages/IPython/core/ultratb.py\u001b[0m in \u001b[0;36mstructured_traceback\u001b[0;34m(self, etype, value, tb, tb_offset, number_of_lines_of_context)\u001b[0m\n\u001b[1;32m   1435\u001b[0m             \u001b[0mself\u001b[0m\u001b[0;34m.\u001b[0m\u001b[0mtb\u001b[0m \u001b[0;34m=\u001b[0m \u001b[0mtb\u001b[0m\u001b[0;34m\u001b[0m\u001b[0;34m\u001b[0m\u001b[0m\n\u001b[1;32m   1436\u001b[0m         return FormattedTB.structured_traceback(\n\u001b[0;32m-> 1437\u001b[0;31m             self, etype, value, tb, tb_offset, number_of_lines_of_context)\n\u001b[0m\u001b[1;32m   1438\u001b[0m \u001b[0;34m\u001b[0m\u001b[0m\n\u001b[1;32m   1439\u001b[0m \u001b[0;34m\u001b[0m\u001b[0m\n",
      "\u001b[0;32m~/first_pytorch/lib/python3.7/site-packages/IPython/core/ultratb.py\u001b[0m in \u001b[0;36mstructured_traceback\u001b[0;34m(self, etype, value, tb, tb_offset, number_of_lines_of_context)\u001b[0m\n\u001b[1;32m   1335\u001b[0m             \u001b[0;31m# Verbose modes need a full traceback\u001b[0m\u001b[0;34m\u001b[0m\u001b[0;34m\u001b[0m\u001b[0;34m\u001b[0m\u001b[0m\n\u001b[1;32m   1336\u001b[0m             return VerboseTB.structured_traceback(\n\u001b[0;32m-> 1337\u001b[0;31m                 \u001b[0mself\u001b[0m\u001b[0;34m,\u001b[0m \u001b[0metype\u001b[0m\u001b[0;34m,\u001b[0m \u001b[0mvalue\u001b[0m\u001b[0;34m,\u001b[0m \u001b[0mtb\u001b[0m\u001b[0;34m,\u001b[0m \u001b[0mtb_offset\u001b[0m\u001b[0;34m,\u001b[0m \u001b[0mnumber_of_lines_of_context\u001b[0m\u001b[0;34m\u001b[0m\u001b[0;34m\u001b[0m\u001b[0m\n\u001b[0m\u001b[1;32m   1338\u001b[0m             )\n\u001b[1;32m   1339\u001b[0m         \u001b[0;32melif\u001b[0m \u001b[0mmode\u001b[0m \u001b[0;34m==\u001b[0m \u001b[0;34m'Minimal'\u001b[0m\u001b[0;34m:\u001b[0m\u001b[0;34m\u001b[0m\u001b[0;34m\u001b[0m\u001b[0m\n",
      "\u001b[0;32m~/first_pytorch/lib/python3.7/site-packages/IPython/core/ultratb.py\u001b[0m in \u001b[0;36mstructured_traceback\u001b[0;34m(self, etype, evalue, etb, tb_offset, number_of_lines_of_context)\u001b[0m\n\u001b[1;32m   1192\u001b[0m \u001b[0;34m\u001b[0m\u001b[0m\n\u001b[1;32m   1193\u001b[0m         formatted_exception = self.format_exception_as_a_whole(etype, evalue, etb, number_of_lines_of_context,\n\u001b[0;32m-> 1194\u001b[0;31m                                                                tb_offset)\n\u001b[0m\u001b[1;32m   1195\u001b[0m \u001b[0;34m\u001b[0m\u001b[0m\n\u001b[1;32m   1196\u001b[0m         \u001b[0mcolors\u001b[0m \u001b[0;34m=\u001b[0m \u001b[0mself\u001b[0m\u001b[0;34m.\u001b[0m\u001b[0mColors\u001b[0m  \u001b[0;31m# just a shorthand + quicker name lookup\u001b[0m\u001b[0;34m\u001b[0m\u001b[0;34m\u001b[0m\u001b[0m\n",
      "\u001b[0;32m~/first_pytorch/lib/python3.7/site-packages/IPython/core/ultratb.py\u001b[0m in \u001b[0;36mformat_exception_as_a_whole\u001b[0;34m(self, etype, evalue, etb, number_of_lines_of_context, tb_offset)\u001b[0m\n\u001b[1;32m   1149\u001b[0m \u001b[0;34m\u001b[0m\u001b[0m\n\u001b[1;32m   1150\u001b[0m \u001b[0;34m\u001b[0m\u001b[0m\n\u001b[0;32m-> 1151\u001b[0;31m         \u001b[0mlast_unique\u001b[0m\u001b[0;34m,\u001b[0m \u001b[0mrecursion_repeat\u001b[0m \u001b[0;34m=\u001b[0m \u001b[0mfind_recursion\u001b[0m\u001b[0;34m(\u001b[0m\u001b[0morig_etype\u001b[0m\u001b[0;34m,\u001b[0m \u001b[0mevalue\u001b[0m\u001b[0;34m,\u001b[0m \u001b[0mrecords\u001b[0m\u001b[0;34m)\u001b[0m\u001b[0;34m\u001b[0m\u001b[0;34m\u001b[0m\u001b[0m\n\u001b[0m\u001b[1;32m   1152\u001b[0m \u001b[0;34m\u001b[0m\u001b[0m\n\u001b[1;32m   1153\u001b[0m         \u001b[0mframes\u001b[0m \u001b[0;34m=\u001b[0m \u001b[0mself\u001b[0m\u001b[0;34m.\u001b[0m\u001b[0mformat_records\u001b[0m\u001b[0;34m(\u001b[0m\u001b[0mrecords\u001b[0m\u001b[0;34m,\u001b[0m \u001b[0mlast_unique\u001b[0m\u001b[0;34m,\u001b[0m \u001b[0mrecursion_repeat\u001b[0m\u001b[0;34m)\u001b[0m\u001b[0;34m\u001b[0m\u001b[0;34m\u001b[0m\u001b[0m\n",
      "\u001b[0;32m~/first_pytorch/lib/python3.7/site-packages/IPython/core/ultratb.py\u001b[0m in \u001b[0;36mfind_recursion\u001b[0;34m(etype, value, records)\u001b[0m\n\u001b[1;32m    449\u001b[0m     \u001b[0;31m# first frame (from in to out) that looks different.\u001b[0m\u001b[0;34m\u001b[0m\u001b[0;34m\u001b[0m\u001b[0;34m\u001b[0m\u001b[0m\n\u001b[1;32m    450\u001b[0m     \u001b[0;32mif\u001b[0m \u001b[0;32mnot\u001b[0m \u001b[0mis_recursion_error\u001b[0m\u001b[0;34m(\u001b[0m\u001b[0metype\u001b[0m\u001b[0;34m,\u001b[0m \u001b[0mvalue\u001b[0m\u001b[0;34m,\u001b[0m \u001b[0mrecords\u001b[0m\u001b[0;34m)\u001b[0m\u001b[0;34m:\u001b[0m\u001b[0;34m\u001b[0m\u001b[0;34m\u001b[0m\u001b[0m\n\u001b[0;32m--> 451\u001b[0;31m         \u001b[0;32mreturn\u001b[0m \u001b[0mlen\u001b[0m\u001b[0;34m(\u001b[0m\u001b[0mrecords\u001b[0m\u001b[0;34m)\u001b[0m\u001b[0;34m,\u001b[0m \u001b[0;36m0\u001b[0m\u001b[0;34m\u001b[0m\u001b[0;34m\u001b[0m\u001b[0m\n\u001b[0m\u001b[1;32m    452\u001b[0m \u001b[0;34m\u001b[0m\u001b[0m\n\u001b[1;32m    453\u001b[0m     \u001b[0;31m# Select filename, lineno, func_name to track frames with\u001b[0m\u001b[0;34m\u001b[0m\u001b[0;34m\u001b[0m\u001b[0;34m\u001b[0m\u001b[0m\n",
      "\u001b[0;31mTypeError\u001b[0m: object of type 'NoneType' has no len()"
     ]
    }
   ],
   "source": [
    "i=0\n",
    "while i<10 : \n",
    "    i +=1\n",
    "    try :\n",
    "        # 대기 시간 추가 (20초)\n",
    "        WebDriverWait(driver, 10).until(EC.presence_of_element_located((By.XPATH, '//*[@id=\"wrap\"]/div[2]/div/div/section/div[2]/div/section/div/div[2]/div/div/a')))\n",
    "        \n",
    "        #게시글 작성 시간 추출\n",
    "        timetag = driver.find_element(\"xpath\", '//*[@id=\"wrap\"]/div[2]/div/div/section/div[2]/div/section/div/div[2]/div/div/a')\n",
    "        timeT = timetag.text\n",
    "        \n",
    "        #일 제거\n",
    "        idx = timeT.index(\"일\")\n",
    "        timeT = timeT[0:idx + 1]\n",
    "\n",
    "        #공백 삭제 및 일자 규칙 변경\n",
    "        timeT = timeT.replace(\" \", \"\")\n",
    "        timeT = timeT.replace(\"년\", \"-\")\n",
    "        timeT = timeT.replace(\"월\", \"-\")\n",
    "        timeT = timeT.replace(\"일\", \"\")\n",
    "\n",
    "        #게시글 영역 추출 후 텍스트뷰 정보 추출\n",
    "        data = driver.find_element(\"xpath\", '//*[@id=\"wrap\"]/div[2]/div/div/section/div[2]/div/section/div/div[3]')\n",
    "        textLine = data.find_elements(By.CLASS_NAME, \"dPostTextView\")\n",
    "            \n",
    "        # 텍스트 취합\n",
    "        strData = \"\"\n",
    "        for e in textLine :\n",
    "            strData = strData + e.text + \"\\n\"\n",
    "            \n",
    "        print(strData)\n",
    "\n",
    "        #특수문자 제거\n",
    "        strData = re.sub(r'[^ ㄱ-ㅣ가-힣A-Za-z]', '', strData)\n",
    "\n",
    "        # csv 입력\n",
    "        wr.writerow([timeT, strData])\n",
    "\n",
    "        # 버튼을 찾아서 없으면 로직 종료(모든 밴드 데이터 수집 완료)\n",
    "        NextBtn1 = driver.find_element(\"xpath\", '//*[@id=\"wrap\"]/div[2]/div/div/section/button[3]')\n",
    "        if NextBtn1 : #다음버튼 클릭\n",
    "            NextBtn1.click()    \n",
    "        else :  #다음 버튼이 없는경우 반복문 종료\n",
    "            break\n",
    "            \n",
    "        time.sleep(1)\n",
    "\n",
    "    except Exception as e :\n",
    "        print(e)\n",
    "    \n",
    "f.close()"
   ]
  },
  {
   "cell_type": "code",
   "execution_count": 15,
   "id": "worse-style",
   "metadata": {},
   "outputs": [
    {
     "ename": "TimeoutException",
     "evalue": "Message: \nStacktrace:\n0   chromedriver                        0x000000010906fa78 chromedriver + 5216888\n1   chromedriver                        0x00000001090676b3 chromedriver + 5183155\n2   chromedriver                        0x0000000108bd9527 chromedriver + 406823\n3   chromedriver                        0x0000000108c24ff2 chromedriver + 716786\n4   chromedriver                        0x0000000108c25181 chromedriver + 717185\n5   chromedriver                        0x0000000108c691d4 chromedriver + 995796\n6   chromedriver                        0x0000000108c4772d chromedriver + 857901\n7   chromedriver                        0x0000000108c666bf chromedriver + 984767\n8   chromedriver                        0x0000000108c474a3 chromedriver + 857251\n9   chromedriver                        0x0000000108c17fe3 chromedriver + 663523\n10  chromedriver                        0x0000000108c1892e chromedriver + 665902\n11  chromedriver                        0x000000010902d990 chromedriver + 4946320\n12  chromedriver                        0x0000000109033a44 chromedriver + 4971076\n13  chromedriver                        0x000000010900e48e chromedriver + 4818062\n14  chromedriver                        0x0000000109034559 chromedriver + 4973913\n15  chromedriver                        0x0000000108ffe714 chromedriver + 4753172\n16  chromedriver                        0x0000000109056c08 chromedriver + 5114888\n17  chromedriver                        0x0000000109056dc7 chromedriver + 5115335\n18  chromedriver                        0x00000001090672d3 chromedriver + 5182163\n19  libsystem_pthread.dylib             0x00007ff814f9c1d3 _pthread_start + 125\n20  libsystem_pthread.dylib             0x00007ff814f97bd3 thread_start + 15\n",
     "output_type": "error",
     "traceback": [
      "\u001b[0;31m---------------------------------------------------------------------------\u001b[0m",
      "\u001b[0;31mTimeoutException\u001b[0m                          Traceback (most recent call last)",
      "\u001b[0;32m<ipython-input-15-8b50f4795f21>\u001b[0m in \u001b[0;36m<module>\u001b[0;34m\u001b[0m\n\u001b[0;32m----> 1\u001b[0;31m \u001b[0mWebDriverWait\u001b[0m\u001b[0;34m(\u001b[0m\u001b[0mdriver\u001b[0m\u001b[0;34m,\u001b[0m \u001b[0;36m20\u001b[0m\u001b[0;34m)\u001b[0m\u001b[0;34m.\u001b[0m\u001b[0muntil\u001b[0m\u001b[0;34m(\u001b[0m\u001b[0mEC\u001b[0m\u001b[0;34m.\u001b[0m\u001b[0mpresence_of_element_located\u001b[0m\u001b[0;34m(\u001b[0m\u001b[0;34m(\u001b[0m\u001b[0mBy\u001b[0m\u001b[0;34m.\u001b[0m\u001b[0mXPATH\u001b[0m\u001b[0;34m,\u001b[0m \u001b[0;34m'//*[@id=\"wrap\"]/div[2]/div/div/section/div[2]/div/section/div/div[2]/div/div/a'\u001b[0m\u001b[0;34m)\u001b[0m\u001b[0;34m)\u001b[0m\u001b[0;34m)\u001b[0m\u001b[0;34m\u001b[0m\u001b[0;34m\u001b[0m\u001b[0m\n\u001b[0m",
      "\u001b[0;32m~/first_pytorch/lib/python3.7/site-packages/selenium/webdriver/support/wait.py\u001b[0m in \u001b[0;36muntil\u001b[0;34m(self, method, message)\u001b[0m\n\u001b[1;32m     93\u001b[0m             \u001b[0;32mif\u001b[0m \u001b[0mtime\u001b[0m\u001b[0;34m.\u001b[0m\u001b[0mmonotonic\u001b[0m\u001b[0;34m(\u001b[0m\u001b[0;34m)\u001b[0m \u001b[0;34m>\u001b[0m \u001b[0mend_time\u001b[0m\u001b[0;34m:\u001b[0m\u001b[0;34m\u001b[0m\u001b[0;34m\u001b[0m\u001b[0m\n\u001b[1;32m     94\u001b[0m                 \u001b[0;32mbreak\u001b[0m\u001b[0;34m\u001b[0m\u001b[0;34m\u001b[0m\u001b[0m\n\u001b[0;32m---> 95\u001b[0;31m         \u001b[0;32mraise\u001b[0m \u001b[0mTimeoutException\u001b[0m\u001b[0;34m(\u001b[0m\u001b[0mmessage\u001b[0m\u001b[0;34m,\u001b[0m \u001b[0mscreen\u001b[0m\u001b[0;34m,\u001b[0m \u001b[0mstacktrace\u001b[0m\u001b[0;34m)\u001b[0m\u001b[0;34m\u001b[0m\u001b[0;34m\u001b[0m\u001b[0m\n\u001b[0m\u001b[1;32m     96\u001b[0m \u001b[0;34m\u001b[0m\u001b[0m\n\u001b[1;32m     97\u001b[0m     \u001b[0;32mdef\u001b[0m \u001b[0muntil_not\u001b[0m\u001b[0;34m(\u001b[0m\u001b[0mself\u001b[0m\u001b[0;34m,\u001b[0m \u001b[0mmethod\u001b[0m\u001b[0;34m,\u001b[0m \u001b[0mmessage\u001b[0m\u001b[0;34m:\u001b[0m \u001b[0mstr\u001b[0m \u001b[0;34m=\u001b[0m \u001b[0;34m\"\"\u001b[0m\u001b[0;34m)\u001b[0m\u001b[0;34m:\u001b[0m\u001b[0;34m\u001b[0m\u001b[0;34m\u001b[0m\u001b[0m\n",
      "\u001b[0;31mTimeoutException\u001b[0m: Message: \nStacktrace:\n0   chromedriver                        0x000000010906fa78 chromedriver + 5216888\n1   chromedriver                        0x00000001090676b3 chromedriver + 5183155\n2   chromedriver                        0x0000000108bd9527 chromedriver + 406823\n3   chromedriver                        0x0000000108c24ff2 chromedriver + 716786\n4   chromedriver                        0x0000000108c25181 chromedriver + 717185\n5   chromedriver                        0x0000000108c691d4 chromedriver + 995796\n6   chromedriver                        0x0000000108c4772d chromedriver + 857901\n7   chromedriver                        0x0000000108c666bf chromedriver + 984767\n8   chromedriver                        0x0000000108c474a3 chromedriver + 857251\n9   chromedriver                        0x0000000108c17fe3 chromedriver + 663523\n10  chromedriver                        0x0000000108c1892e chromedriver + 665902\n11  chromedriver                        0x000000010902d990 chromedriver + 4946320\n12  chromedriver                        0x0000000109033a44 chromedriver + 4971076\n13  chromedriver                        0x000000010900e48e chromedriver + 4818062\n14  chromedriver                        0x0000000109034559 chromedriver + 4973913\n15  chromedriver                        0x0000000108ffe714 chromedriver + 4753172\n16  chromedriver                        0x0000000109056c08 chromedriver + 5114888\n17  chromedriver                        0x0000000109056dc7 chromedriver + 5115335\n18  chromedriver                        0x00000001090672d3 chromedriver + 5182163\n19  libsystem_pthread.dylib             0x00007ff814f9c1d3 _pthread_start + 125\n20  libsystem_pthread.dylib             0x00007ff814f97bd3 thread_start + 15\n"
     ]
    }
   ],
   "source": [
    "WebDriverWait(driver, 20).until(EC.presence_of_element_located((By.XPATH, '//*[@id=\"wrap\"]/div[2]/div/div/section/div[2]/div/section/div/div[2]/div/div/a')))"
   ]
  },
  {
   "cell_type": "code",
   "execution_count": null,
   "id": "breeding-indonesian",
   "metadata": {},
   "outputs": [],
   "source": []
  }
 ],
 "metadata": {
  "kernelspec": {
   "display_name": "first_pytorch",
   "language": "python",
   "name": "first_pytorch"
  },
  "language_info": {
   "codemirror_mode": {
    "name": "ipython",
    "version": 3
   },
   "file_extension": ".py",
   "mimetype": "text/x-python",
   "name": "python",
   "nbconvert_exporter": "python",
   "pygments_lexer": "ipython3",
   "version": "3.11.7"
  }
 },
 "nbformat": 4,
 "nbformat_minor": 5
}
